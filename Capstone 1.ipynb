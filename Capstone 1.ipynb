{
 "cells": [
  {
   "cell_type": "markdown",
   "metadata": {},
   "source": [
    "# DATA STORYTELLING: CRIME RATES IN NYC"
   ]
  },
  {
   "cell_type": "markdown",
   "metadata": {},
   "source": [
    "#### The purpose of this project is to be able to understand the nature of crimes that happen in NYC in each borough. Various crimes can be confined to different boroughs. \n",
    "#### I performed some data exploration and visualization in this notebook with the hope of uncovering some interesting insights along the way. I used publicly available data to explore crime in NYC from January 2015 to February 2019. The data is available from the NYC's data portal linked below.\n",
    "#### https://data.cityofnewyork.us/Public-Safety/NYPD-Complaint-Data-Current-Year-To-Date-/5uac-w243/data\n",
    "#### Though the original audience is the NYPD cops and detectives, the audience could be anyone with minimum knowledge of thr technicalities of the code cells. There are comment in each cell codes to explain what steps I took to obtain the results."
   ]
  },
  {
   "cell_type": "code",
   "execution_count": 1,
   "metadata": {},
   "outputs": [],
   "source": [
    "import pandas as pd\n",
    "import numpy as np\n",
    "import matplotlib.pyplot as plt\n",
    "%matplotlib inline\n",
    "import seaborn as sns\n",
    "sns.set_style(\"darkgrid\")\n",
    "\n",
    "df = pd.read_csv('nyc_crime.csv')"
   ]
  },
  {
   "cell_type": "markdown",
   "metadata": {},
   "source": [
    "## Clean data\n",
    "- Delete unnecessary columns and fill NaN values of the columns that will be used for plots\n",
    "- Convert all the date columns to datetime format. (I am still thinking of combining the date and time but I need to check what I can do to plot it.)\n",
    "- Check for duplicates. check for columns .nunique() for columns for unique values \n",
    "- Separate the date and add another columns for years, months and dates"
   ]
  },
  {
   "cell_type": "code",
   "execution_count": 2,
   "metadata": {},
   "outputs": [],
   "source": [
    "# Delete unnecessary columns. Columns that are not needed are: HADEVELOPT, HOUSING_PSA, JURISDICTION_CODE, JURIS_DESC, LOC_OF_OCCUR_DESC, PARKS_NM, STATION_NAME, TRANSIT_DISTRICT.\n",
    "df.drop(['HADEVELOPT', 'HOUSING_PSA', 'PREM_TYP_DESC', 'JURISDICTION_CODE', 'JURIS_DESC', 'LOC_OF_OCCUR_DESC', 'PARKS_NM', 'STATION_NAME', 'TRANSIT_DISTRICT'], axis=1, inplace=True)"
   ]
  },
  {
   "cell_type": "code",
   "execution_count": 3,
   "metadata": {},
   "outputs": [],
   "source": [
    "# Rename columns.\n",
    "df = df.rename(columns={\"BORO_NM\": \"BOROUGH\", \"CMPLNT_FR_DT\": \"DATE\", \"CMPLNT_FR_TM\": \"TIME\", \"LAW_CAT_CD\": \"OFFENSE LEVEL\", \"ADDR_PCT_CD\": \"PRECINT\", \"PD_DESC\": \"OFFENSE_NAME\"})\n",
    "\n",
    "# Fill in NaN values on BORO_NM\n",
    "df[\"BOROUGH\"].fillna(\"UNKNOWN\", inplace = True) "
   ]
  },
  {
   "cell_type": "code",
   "execution_count": 4,
   "metadata": {},
   "outputs": [
    {
     "data": {
      "text/html": [
       "<div>\n",
       "<style scoped>\n",
       "    .dataframe tbody tr th:only-of-type {\n",
       "        vertical-align: middle;\n",
       "    }\n",
       "\n",
       "    .dataframe tbody tr th {\n",
       "        vertical-align: top;\n",
       "    }\n",
       "\n",
       "    .dataframe thead th {\n",
       "        text-align: right;\n",
       "    }\n",
       "</style>\n",
       "<table border=\"1\" class=\"dataframe\">\n",
       "  <thead>\n",
       "    <tr style=\"text-align: right;\">\n",
       "      <th></th>\n",
       "      <th>CMPLNT_NUM</th>\n",
       "      <th>PRECINT</th>\n",
       "      <th>BOROUGH</th>\n",
       "      <th>DATE</th>\n",
       "      <th>TIME</th>\n",
       "      <th>CMPLNT_TO_DT</th>\n",
       "      <th>CMPLNT_TO_TM</th>\n",
       "      <th>CRM_ATPT_CPTD_CD</th>\n",
       "      <th>KY_CD</th>\n",
       "      <th>OFFENSE LEVEL</th>\n",
       "      <th>...</th>\n",
       "      <th>SUSP_RACE</th>\n",
       "      <th>SUSP_SEX</th>\n",
       "      <th>VIC_AGE_GROUP</th>\n",
       "      <th>VIC_RACE</th>\n",
       "      <th>VIC_SEX</th>\n",
       "      <th>X_COORD_CD</th>\n",
       "      <th>Y_COORD_CD</th>\n",
       "      <th>Latitude</th>\n",
       "      <th>Longitude</th>\n",
       "      <th>Lat_Lon</th>\n",
       "    </tr>\n",
       "  </thead>\n",
       "  <tbody>\n",
       "    <tr>\n",
       "      <td>0</td>\n",
       "      <td>314773184</td>\n",
       "      <td>48</td>\n",
       "      <td>BRONX</td>\n",
       "      <td>2019-12-31</td>\n",
       "      <td>18:00:00</td>\n",
       "      <td>NaT</td>\n",
       "      <td>NaN</td>\n",
       "      <td>COMPLETED</td>\n",
       "      <td>105</td>\n",
       "      <td>FELONY</td>\n",
       "      <td>...</td>\n",
       "      <td>UNKNOWN</td>\n",
       "      <td>U</td>\n",
       "      <td>45-64</td>\n",
       "      <td>WHITE HISPANIC</td>\n",
       "      <td>F</td>\n",
       "      <td>1016990</td>\n",
       "      <td>244612</td>\n",
       "      <td>40.838026</td>\n",
       "      <td>-73.881681</td>\n",
       "      <td>(40.838026269000075, -73.88168118799997)</td>\n",
       "    </tr>\n",
       "    <tr>\n",
       "      <td>1</td>\n",
       "      <td>289837961</td>\n",
       "      <td>25</td>\n",
       "      <td>MANHATTAN</td>\n",
       "      <td>2019-12-30</td>\n",
       "      <td>20:30:00</td>\n",
       "      <td>2019-12-31</td>\n",
       "      <td>10:00:00</td>\n",
       "      <td>COMPLETED</td>\n",
       "      <td>341</td>\n",
       "      <td>MISDEMEANOR</td>\n",
       "      <td>...</td>\n",
       "      <td>NaN</td>\n",
       "      <td>NaN</td>\n",
       "      <td>25-44</td>\n",
       "      <td>WHITE HISPANIC</td>\n",
       "      <td>F</td>\n",
       "      <td>999296</td>\n",
       "      <td>230862</td>\n",
       "      <td>40.800334</td>\n",
       "      <td>-73.945657</td>\n",
       "      <td>(40.800334261000046, -73.94565697199994)</td>\n",
       "    </tr>\n",
       "    <tr>\n",
       "      <td>2</td>\n",
       "      <td>535744284</td>\n",
       "      <td>77</td>\n",
       "      <td>BROOKLYN</td>\n",
       "      <td>2019-12-24</td>\n",
       "      <td>16:55:00</td>\n",
       "      <td>2019-12-24</td>\n",
       "      <td>17:00:00</td>\n",
       "      <td>COMPLETED</td>\n",
       "      <td>106</td>\n",
       "      <td>FELONY</td>\n",
       "      <td>...</td>\n",
       "      <td>BLACK</td>\n",
       "      <td>M</td>\n",
       "      <td>18-24</td>\n",
       "      <td>WHITE</td>\n",
       "      <td>M</td>\n",
       "      <td>1001068</td>\n",
       "      <td>183317</td>\n",
       "      <td>40.669832</td>\n",
       "      <td>-73.939376</td>\n",
       "      <td>(40.66983179600004, -73.93937555099996)</td>\n",
       "    </tr>\n",
       "    <tr>\n",
       "      <td>3</td>\n",
       "      <td>895678119</td>\n",
       "      <td>52</td>\n",
       "      <td>BRONX</td>\n",
       "      <td>2019-12-30</td>\n",
       "      <td>19:32:00</td>\n",
       "      <td>NaT</td>\n",
       "      <td>NaN</td>\n",
       "      <td>COMPLETED</td>\n",
       "      <td>341</td>\n",
       "      <td>MISDEMEANOR</td>\n",
       "      <td>...</td>\n",
       "      <td>WHITE</td>\n",
       "      <td>F</td>\n",
       "      <td>UNKNOWN</td>\n",
       "      <td>UNKNOWN</td>\n",
       "      <td>D</td>\n",
       "      <td>1009690</td>\n",
       "      <td>257590</td>\n",
       "      <td>40.873671</td>\n",
       "      <td>-73.908014</td>\n",
       "      <td>(40.87367103500002, -73.90801364899994)</td>\n",
       "    </tr>\n",
       "    <tr>\n",
       "      <td>4</td>\n",
       "      <td>299841674</td>\n",
       "      <td>18</td>\n",
       "      <td>MANHATTAN</td>\n",
       "      <td>2019-12-30</td>\n",
       "      <td>15:30:00</td>\n",
       "      <td>2019-12-30</td>\n",
       "      <td>16:50:00</td>\n",
       "      <td>COMPLETED</td>\n",
       "      <td>341</td>\n",
       "      <td>MISDEMEANOR</td>\n",
       "      <td>...</td>\n",
       "      <td>NaN</td>\n",
       "      <td>NaN</td>\n",
       "      <td>25-44</td>\n",
       "      <td>WHITE HISPANIC</td>\n",
       "      <td>M</td>\n",
       "      <td>985766</td>\n",
       "      <td>216503</td>\n",
       "      <td>40.760935</td>\n",
       "      <td>-73.994529</td>\n",
       "      <td>(40.76093528000007, -73.99452906599998)</td>\n",
       "    </tr>\n",
       "  </tbody>\n",
       "</table>\n",
       "<p>5 rows × 26 columns</p>\n",
       "</div>"
      ],
      "text/plain": [
       "   CMPLNT_NUM  PRECINT    BOROUGH       DATE      TIME CMPLNT_TO_DT  \\\n",
       "0   314773184       48      BRONX 2019-12-31  18:00:00          NaT   \n",
       "1   289837961       25  MANHATTAN 2019-12-30  20:30:00   2019-12-31   \n",
       "2   535744284       77   BROOKLYN 2019-12-24  16:55:00   2019-12-24   \n",
       "3   895678119       52      BRONX 2019-12-30  19:32:00          NaT   \n",
       "4   299841674       18  MANHATTAN 2019-12-30  15:30:00   2019-12-30   \n",
       "\n",
       "  CMPLNT_TO_TM CRM_ATPT_CPTD_CD  KY_CD OFFENSE LEVEL  ... SUSP_RACE SUSP_SEX  \\\n",
       "0          NaN        COMPLETED    105        FELONY  ...   UNKNOWN        U   \n",
       "1     10:00:00        COMPLETED    341   MISDEMEANOR  ...       NaN      NaN   \n",
       "2     17:00:00        COMPLETED    106        FELONY  ...     BLACK        M   \n",
       "3          NaN        COMPLETED    341   MISDEMEANOR  ...     WHITE        F   \n",
       "4     16:50:00        COMPLETED    341   MISDEMEANOR  ...       NaN      NaN   \n",
       "\n",
       "   VIC_AGE_GROUP        VIC_RACE VIC_SEX X_COORD_CD Y_COORD_CD   Latitude  \\\n",
       "0          45-64  WHITE HISPANIC       F    1016990     244612  40.838026   \n",
       "1          25-44  WHITE HISPANIC       F     999296     230862  40.800334   \n",
       "2          18-24           WHITE       M    1001068     183317  40.669832   \n",
       "3        UNKNOWN         UNKNOWN       D    1009690     257590  40.873671   \n",
       "4          25-44  WHITE HISPANIC       M     985766     216503  40.760935   \n",
       "\n",
       "   Longitude                                   Lat_Lon  \n",
       "0 -73.881681  (40.838026269000075, -73.88168118799997)  \n",
       "1 -73.945657  (40.800334261000046, -73.94565697199994)  \n",
       "2 -73.939376   (40.66983179600004, -73.93937555099996)  \n",
       "3 -73.908014   (40.87367103500002, -73.90801364899994)  \n",
       "4 -73.994529   (40.76093528000007, -73.99452906599998)  \n",
       "\n",
       "[5 rows x 26 columns]"
      ]
     },
     "execution_count": 4,
     "metadata": {},
     "output_type": "execute_result"
    }
   ],
   "source": [
    "# Change the dates to datetime format\n",
    "df['DATE'] = pd.to_datetime(df['DATE'])\n",
    "df['CMPLNT_TO_DT'] = pd.to_datetime(df['CMPLNT_TO_DT'], errors='coerce')\n",
    "df['RPT_DT'] = pd.to_datetime(df['RPT_DT'], errors='coerce')\n",
    "df.head()"
   ]
  },
  {
   "cell_type": "code",
   "execution_count": 5,
   "metadata": {},
   "outputs": [
    {
     "data": {
      "text/html": [
       "<div>\n",
       "<style scoped>\n",
       "    .dataframe tbody tr th:only-of-type {\n",
       "        vertical-align: middle;\n",
       "    }\n",
       "\n",
       "    .dataframe tbody tr th {\n",
       "        vertical-align: top;\n",
       "    }\n",
       "\n",
       "    .dataframe thead th {\n",
       "        text-align: right;\n",
       "    }\n",
       "</style>\n",
       "<table border=\"1\" class=\"dataframe\">\n",
       "  <thead>\n",
       "    <tr style=\"text-align: right;\">\n",
       "      <th></th>\n",
       "      <th>CMPLNT_NUM</th>\n",
       "      <th>PRECINT</th>\n",
       "      <th>BOROUGH</th>\n",
       "      <th>DATE</th>\n",
       "      <th>TIME</th>\n",
       "      <th>CMPLNT_TO_DT</th>\n",
       "      <th>CMPLNT_TO_TM</th>\n",
       "      <th>CRM_ATPT_CPTD_CD</th>\n",
       "      <th>KY_CD</th>\n",
       "      <th>OFFENSE LEVEL</th>\n",
       "      <th>...</th>\n",
       "      <th>VIC_SEX</th>\n",
       "      <th>X_COORD_CD</th>\n",
       "      <th>Y_COORD_CD</th>\n",
       "      <th>Latitude</th>\n",
       "      <th>Longitude</th>\n",
       "      <th>Lat_Lon</th>\n",
       "      <th>YEAR</th>\n",
       "      <th>MONTH</th>\n",
       "      <th>DAY</th>\n",
       "      <th>WEEKDAY</th>\n",
       "    </tr>\n",
       "  </thead>\n",
       "  <tbody>\n",
       "    <tr>\n",
       "      <td>125688</td>\n",
       "      <td>863566396</td>\n",
       "      <td>100</td>\n",
       "      <td>QUEENS</td>\n",
       "      <td>2015-01-01</td>\n",
       "      <td>0:00:00</td>\n",
       "      <td>2019-07-21</td>\n",
       "      <td>11:26:00</td>\n",
       "      <td>COMPLETED</td>\n",
       "      <td>126</td>\n",
       "      <td>FELONY</td>\n",
       "      <td>...</td>\n",
       "      <td>M</td>\n",
       "      <td>1035212</td>\n",
       "      <td>152992</td>\n",
       "      <td>40.586466</td>\n",
       "      <td>-73.816522</td>\n",
       "      <td>(40.58646552900007, -73.81652172299994)</td>\n",
       "      <td>2015</td>\n",
       "      <td>1</td>\n",
       "      <td>1</td>\n",
       "      <td>3</td>\n",
       "    </tr>\n",
       "    <tr>\n",
       "      <td>436147</td>\n",
       "      <td>780908649</td>\n",
       "      <td>42</td>\n",
       "      <td>BRONX</td>\n",
       "      <td>2015-01-01</td>\n",
       "      <td>0:00:00</td>\n",
       "      <td>2015-12-31</td>\n",
       "      <td>23:59:00</td>\n",
       "      <td>COMPLETED</td>\n",
       "      <td>116</td>\n",
       "      <td>FELONY</td>\n",
       "      <td>...</td>\n",
       "      <td>F</td>\n",
       "      <td>1008798</td>\n",
       "      <td>238971</td>\n",
       "      <td>40.822570</td>\n",
       "      <td>-73.911307</td>\n",
       "      <td>(40.82256991600008, -73.91130716899994)</td>\n",
       "      <td>2015</td>\n",
       "      <td>1</td>\n",
       "      <td>1</td>\n",
       "      <td>3</td>\n",
       "    </tr>\n",
       "    <tr>\n",
       "      <td>312163</td>\n",
       "      <td>996127336</td>\n",
       "      <td>50</td>\n",
       "      <td>BRONX</td>\n",
       "      <td>2015-01-01</td>\n",
       "      <td>0:00:00</td>\n",
       "      <td>NaT</td>\n",
       "      <td>NaN</td>\n",
       "      <td>COMPLETED</td>\n",
       "      <td>233</td>\n",
       "      <td>MISDEMEANOR</td>\n",
       "      <td>...</td>\n",
       "      <td>F</td>\n",
       "      <td>1011257</td>\n",
       "      <td>261130</td>\n",
       "      <td>40.883383</td>\n",
       "      <td>-73.902333</td>\n",
       "      <td>(40.883382579000056, -73.90233330899997)</td>\n",
       "      <td>2015</td>\n",
       "      <td>1</td>\n",
       "      <td>1</td>\n",
       "      <td>3</td>\n",
       "    </tr>\n",
       "    <tr>\n",
       "      <td>311798</td>\n",
       "      <td>160752445</td>\n",
       "      <td>18</td>\n",
       "      <td>MANHATTAN</td>\n",
       "      <td>2015-01-01</td>\n",
       "      <td>0:00:00</td>\n",
       "      <td>NaT</td>\n",
       "      <td>NaN</td>\n",
       "      <td>COMPLETED</td>\n",
       "      <td>578</td>\n",
       "      <td>VIOLATION</td>\n",
       "      <td>...</td>\n",
       "      <td>F</td>\n",
       "      <td>987959</td>\n",
       "      <td>217674</td>\n",
       "      <td>40.764149</td>\n",
       "      <td>-73.986612</td>\n",
       "      <td>(40.76414872600003, -73.98661223299997)</td>\n",
       "      <td>2015</td>\n",
       "      <td>1</td>\n",
       "      <td>1</td>\n",
       "      <td>3</td>\n",
       "    </tr>\n",
       "    <tr>\n",
       "      <td>360886</td>\n",
       "      <td>990576089</td>\n",
       "      <td>66</td>\n",
       "      <td>BROOKLYN</td>\n",
       "      <td>2015-01-01</td>\n",
       "      <td>0:01:00</td>\n",
       "      <td>2016-10-25</td>\n",
       "      <td>0:01:00</td>\n",
       "      <td>COMPLETED</td>\n",
       "      <td>109</td>\n",
       "      <td>FELONY</td>\n",
       "      <td>...</td>\n",
       "      <td>F</td>\n",
       "      <td>985162</td>\n",
       "      <td>169652</td>\n",
       "      <td>40.632340</td>\n",
       "      <td>-73.996716</td>\n",
       "      <td>(40.63234026100001, -73.99671569099996)</td>\n",
       "      <td>2015</td>\n",
       "      <td>1</td>\n",
       "      <td>1</td>\n",
       "      <td>3</td>\n",
       "    </tr>\n",
       "  </tbody>\n",
       "</table>\n",
       "<p>5 rows × 30 columns</p>\n",
       "</div>"
      ],
      "text/plain": [
       "        CMPLNT_NUM  PRECINT    BOROUGH       DATE     TIME CMPLNT_TO_DT  \\\n",
       "125688   863566396      100     QUEENS 2015-01-01  0:00:00   2019-07-21   \n",
       "436147   780908649       42      BRONX 2015-01-01  0:00:00   2015-12-31   \n",
       "312163   996127336       50      BRONX 2015-01-01  0:00:00          NaT   \n",
       "311798   160752445       18  MANHATTAN 2015-01-01  0:00:00          NaT   \n",
       "360886   990576089       66   BROOKLYN 2015-01-01  0:01:00   2016-10-25   \n",
       "\n",
       "       CMPLNT_TO_TM CRM_ATPT_CPTD_CD  KY_CD OFFENSE LEVEL  ... VIC_SEX  \\\n",
       "125688     11:26:00        COMPLETED    126        FELONY  ...       M   \n",
       "436147     23:59:00        COMPLETED    116        FELONY  ...       F   \n",
       "312163          NaN        COMPLETED    233   MISDEMEANOR  ...       F   \n",
       "311798          NaN        COMPLETED    578     VIOLATION  ...       F   \n",
       "360886      0:01:00        COMPLETED    109        FELONY  ...       F   \n",
       "\n",
       "       X_COORD_CD  Y_COORD_CD   Latitude  Longitude  \\\n",
       "125688    1035212      152992  40.586466 -73.816522   \n",
       "436147    1008798      238971  40.822570 -73.911307   \n",
       "312163    1011257      261130  40.883383 -73.902333   \n",
       "311798     987959      217674  40.764149 -73.986612   \n",
       "360886     985162      169652  40.632340 -73.996716   \n",
       "\n",
       "                                         Lat_Lon  YEAR MONTH DAY WEEKDAY  \n",
       "125688   (40.58646552900007, -73.81652172299994)  2015     1   1       3  \n",
       "436147   (40.82256991600008, -73.91130716899994)  2015     1   1       3  \n",
       "312163  (40.883382579000056, -73.90233330899997)  2015     1   1       3  \n",
       "311798   (40.76414872600003, -73.98661223299997)  2015     1   1       3  \n",
       "360886   (40.63234026100001, -73.99671569099996)  2015     1   1       3  \n",
       "\n",
       "[5 rows x 30 columns]"
      ]
     },
     "execution_count": 5,
     "metadata": {},
     "output_type": "execute_result"
    }
   ],
   "source": [
    "# Add Columns for Hour, Day, Weekday, Month, Year\n",
    "df['YEAR'] = df['DATE'].dt.year\n",
    "df['MONTH'] = df['DATE'].dt.month\n",
    "df['DAY'] = df['DATE'].dt.day\n",
    "df['WEEKDAY'] = df['DATE'].dt.dayofweek\n",
    "\n",
    "#Sort By Date in descending order\n",
    "df = df.sort_values('DATE')\n",
    "df.head()"
   ]
  },
  {
   "cell_type": "code",
   "execution_count": 6,
   "metadata": {},
   "outputs": [
    {
     "data": {
      "text/plain": [
       "460745"
      ]
     },
     "execution_count": 6,
     "metadata": {},
     "output_type": "execute_result"
    }
   ],
   "source": [
    "# Check that each COMPLAINT NUM is unique\n",
    "CN_unique = df['CMPLNT_NUM'].nunique()\n",
    "CN_unique"
   ]
  },
  {
   "cell_type": "markdown",
   "metadata": {},
   "source": [
    "## Plot total crimes each year in Queens \n",
    "### We need to see to inspect and visualize our entire data."
   ]
  },
  {
   "cell_type": "code",
   "execution_count": 7,
   "metadata": {},
   "outputs": [
    {
     "data": {
      "text/html": [
       "<div>\n",
       "<style scoped>\n",
       "    .dataframe tbody tr th:only-of-type {\n",
       "        vertical-align: middle;\n",
       "    }\n",
       "\n",
       "    .dataframe tbody tr th {\n",
       "        vertical-align: top;\n",
       "    }\n",
       "\n",
       "    .dataframe thead th {\n",
       "        text-align: right;\n",
       "    }\n",
       "</style>\n",
       "<table border=\"1\" class=\"dataframe\">\n",
       "  <thead>\n",
       "    <tr style=\"text-align: right;\">\n",
       "      <th></th>\n",
       "      <th>DATE</th>\n",
       "      <th>BOROUGH</th>\n",
       "    </tr>\n",
       "  </thead>\n",
       "  <tbody>\n",
       "    <tr>\n",
       "      <td>125688</td>\n",
       "      <td>2015-01-01</td>\n",
       "      <td>QUEENS</td>\n",
       "    </tr>\n",
       "    <tr>\n",
       "      <td>436147</td>\n",
       "      <td>2015-01-01</td>\n",
       "      <td>BRONX</td>\n",
       "    </tr>\n",
       "    <tr>\n",
       "      <td>312163</td>\n",
       "      <td>2015-01-01</td>\n",
       "      <td>BRONX</td>\n",
       "    </tr>\n",
       "    <tr>\n",
       "      <td>311798</td>\n",
       "      <td>2015-01-01</td>\n",
       "      <td>MANHATTAN</td>\n",
       "    </tr>\n",
       "    <tr>\n",
       "      <td>360886</td>\n",
       "      <td>2015-01-01</td>\n",
       "      <td>BROOKLYN</td>\n",
       "    </tr>\n",
       "    <tr>\n",
       "      <td>...</td>\n",
       "      <td>...</td>\n",
       "      <td>...</td>\n",
       "    </tr>\n",
       "    <tr>\n",
       "      <td>6890</td>\n",
       "      <td>2019-12-31</td>\n",
       "      <td>BROOKLYN</td>\n",
       "    </tr>\n",
       "    <tr>\n",
       "      <td>2552</td>\n",
       "      <td>2019-12-31</td>\n",
       "      <td>BRONX</td>\n",
       "    </tr>\n",
       "    <tr>\n",
       "      <td>6880</td>\n",
       "      <td>2019-12-31</td>\n",
       "      <td>BROOKLYN</td>\n",
       "    </tr>\n",
       "    <tr>\n",
       "      <td>10995</td>\n",
       "      <td>2019-12-31</td>\n",
       "      <td>STATEN ISLAND</td>\n",
       "    </tr>\n",
       "    <tr>\n",
       "      <td>0</td>\n",
       "      <td>2019-12-31</td>\n",
       "      <td>BRONX</td>\n",
       "    </tr>\n",
       "  </tbody>\n",
       "</table>\n",
       "<p>460745 rows × 2 columns</p>\n",
       "</div>"
      ],
      "text/plain": [
       "             DATE        BOROUGH\n",
       "125688 2015-01-01         QUEENS\n",
       "436147 2015-01-01          BRONX\n",
       "312163 2015-01-01          BRONX\n",
       "311798 2015-01-01      MANHATTAN\n",
       "360886 2015-01-01       BROOKLYN\n",
       "...           ...            ...\n",
       "6890   2019-12-31       BROOKLYN\n",
       "2552   2019-12-31          BRONX\n",
       "6880   2019-12-31       BROOKLYN\n",
       "10995  2019-12-31  STATEN ISLAND\n",
       "0      2019-12-31          BRONX\n",
       "\n",
       "[460745 rows x 2 columns]"
      ]
     },
     "execution_count": 7,
     "metadata": {},
     "output_type": "execute_result"
    }
   ],
   "source": [
    "# Create a subset dataframe by combining columns\n",
    "date_and_borough_df = df[['DATE', 'BOROUGH']]\n",
    "date_and_borough_df"
   ]
  },
  {
   "cell_type": "code",
   "execution_count": 8,
   "metadata": {},
   "outputs": [
    {
     "data": {
      "text/plain": [
       "<matplotlib.axes._subplots.AxesSubplot at 0x1a2e1bf550>"
      ]
     },
     "execution_count": 8,
     "metadata": {},
     "output_type": "execute_result"
    },
    {
     "data": {
      "image/png": "[encoded data removed]",
      "text/plain": [
       "<Figure size 432x288 with 1 Axes>"
      ]
     },
     "metadata": {
      "needs_background": "light"
     },
     "output_type": "display_data"
    }
   ],
   "source": [
    "# Plot Queens Crime Frequency by Date \n",
    "\n",
    "#Create the filter\n",
    "queens = date_and_borough_df[date_and_borough_df['BOROUGH'] == 'QUEENS']\n",
    "\n",
    "# Count the sum of occurences for each date\n",
    "queens_date_count = queens.DATE.value_counts()\n",
    "\n",
    "# Use resample to organize it into Yearly sums\n",
    "queens_date_count = queens_date_count.resample(rule='Y').apply('sum')\n",
    "queens_date_count\n",
    "\n",
    "#Plot \n",
    "queens_date_count.plot(kind='bar')"
   ]
  },
  {
   "cell_type": "markdown",
   "metadata": {},
   "source": [
    "#### There are fewer recorded crimes from 2015 to 2018 because NYC OpenData and NYPD Database did not merge until 2017. Because of this, there are way fewer data in those years that it will make our graphs different since it will consider years 2015 to 2018 as outliers of 2019. For better visualization, it will be better if we focus on crime records in 2019."
   ]
  },
  {
   "cell_type": "code",
   "execution_count": 9,
   "metadata": {},
   "outputs": [
    {
     "data": {
      "text/html": [
       "<div>\n",
       "<style scoped>\n",
       "    .dataframe tbody tr th:only-of-type {\n",
       "        vertical-align: middle;\n",
       "    }\n",
       "\n",
       "    .dataframe tbody tr th {\n",
       "        vertical-align: top;\n",
       "    }\n",
       "\n",
       "    .dataframe thead th {\n",
       "        text-align: right;\n",
       "    }\n",
       "</style>\n",
       "<table border=\"1\" class=\"dataframe\">\n",
       "  <thead>\n",
       "    <tr style=\"text-align: right;\">\n",
       "      <th></th>\n",
       "      <th>CMPLNT_NUM</th>\n",
       "      <th>PRECINT</th>\n",
       "      <th>BOROUGH</th>\n",
       "      <th>DATE</th>\n",
       "      <th>TIME</th>\n",
       "      <th>CMPLNT_TO_DT</th>\n",
       "      <th>CMPLNT_TO_TM</th>\n",
       "      <th>CRM_ATPT_CPTD_CD</th>\n",
       "      <th>KY_CD</th>\n",
       "      <th>OFFENSE LEVEL</th>\n",
       "      <th>...</th>\n",
       "      <th>VIC_SEX</th>\n",
       "      <th>X_COORD_CD</th>\n",
       "      <th>Y_COORD_CD</th>\n",
       "      <th>Latitude</th>\n",
       "      <th>Longitude</th>\n",
       "      <th>Lat_Lon</th>\n",
       "      <th>YEAR</th>\n",
       "      <th>MONTH</th>\n",
       "      <th>DAY</th>\n",
       "      <th>WEEKDAY</th>\n",
       "    </tr>\n",
       "  </thead>\n",
       "  <tbody>\n",
       "    <tr>\n",
       "      <td>460182</td>\n",
       "      <td>900735981</td>\n",
       "      <td>105</td>\n",
       "      <td>QUEENS</td>\n",
       "      <td>2019-01-01</td>\n",
       "      <td>15:00:00</td>\n",
       "      <td>2019-01-01</td>\n",
       "      <td>15:05:00</td>\n",
       "      <td>COMPLETED</td>\n",
       "      <td>578</td>\n",
       "      <td>VIOLATION</td>\n",
       "      <td>...</td>\n",
       "      <td>F</td>\n",
       "      <td>1056264</td>\n",
       "      <td>205572</td>\n",
       "      <td>40.730639</td>\n",
       "      <td>-73.740167</td>\n",
       "      <td>(40.730639403000055, -73.74016656399994)</td>\n",
       "      <td>2019</td>\n",
       "      <td>1</td>\n",
       "      <td>1</td>\n",
       "      <td>1</td>\n",
       "    </tr>\n",
       "    <tr>\n",
       "      <td>460184</td>\n",
       "      <td>495588128</td>\n",
       "      <td>44</td>\n",
       "      <td>BRONX</td>\n",
       "      <td>2019-01-01</td>\n",
       "      <td>18:35:00</td>\n",
       "      <td>2019-01-01</td>\n",
       "      <td>18:45:00</td>\n",
       "      <td>COMPLETED</td>\n",
       "      <td>121</td>\n",
       "      <td>FELONY</td>\n",
       "      <td>...</td>\n",
       "      <td>E</td>\n",
       "      <td>1004749</td>\n",
       "      <td>240880</td>\n",
       "      <td>40.827820</td>\n",
       "      <td>-73.925931</td>\n",
       "      <td>(40.827819901000055, -73.92593075599996)</td>\n",
       "      <td>2019</td>\n",
       "      <td>1</td>\n",
       "      <td>1</td>\n",
       "      <td>1</td>\n",
       "    </tr>\n",
       "    <tr>\n",
       "      <td>455749</td>\n",
       "      <td>876271073</td>\n",
       "      <td>88</td>\n",
       "      <td>BROOKLYN</td>\n",
       "      <td>2019-01-01</td>\n",
       "      <td>1:00:00</td>\n",
       "      <td>2019-01-01</td>\n",
       "      <td>11:00:00</td>\n",
       "      <td>COMPLETED</td>\n",
       "      <td>109</td>\n",
       "      <td>FELONY</td>\n",
       "      <td>...</td>\n",
       "      <td>F</td>\n",
       "      <td>990026</td>\n",
       "      <td>189746</td>\n",
       "      <td>40.687492</td>\n",
       "      <td>-73.979174</td>\n",
       "      <td>(40.687492038000066, -73.97917448199998)</td>\n",
       "      <td>2019</td>\n",
       "      <td>1</td>\n",
       "      <td>1</td>\n",
       "      <td>1</td>\n",
       "    </tr>\n",
       "    <tr>\n",
       "      <td>449662</td>\n",
       "      <td>394629573</td>\n",
       "      <td>44</td>\n",
       "      <td>BRONX</td>\n",
       "      <td>2019-01-01</td>\n",
       "      <td>15:15:00</td>\n",
       "      <td>NaT</td>\n",
       "      <td>NaN</td>\n",
       "      <td>COMPLETED</td>\n",
       "      <td>121</td>\n",
       "      <td>FELONY</td>\n",
       "      <td>...</td>\n",
       "      <td>E</td>\n",
       "      <td>1004749</td>\n",
       "      <td>240880</td>\n",
       "      <td>40.827820</td>\n",
       "      <td>-73.925931</td>\n",
       "      <td>(40.827819901000055, -73.92593075599996)</td>\n",
       "      <td>2019</td>\n",
       "      <td>1</td>\n",
       "      <td>1</td>\n",
       "      <td>1</td>\n",
       "    </tr>\n",
       "    <tr>\n",
       "      <td>460185</td>\n",
       "      <td>579035297</td>\n",
       "      <td>18</td>\n",
       "      <td>MANHATTAN</td>\n",
       "      <td>2019-01-01</td>\n",
       "      <td>2:10:00</td>\n",
       "      <td>2019-01-01</td>\n",
       "      <td>2:30:00</td>\n",
       "      <td>COMPLETED</td>\n",
       "      <td>106</td>\n",
       "      <td>FELONY</td>\n",
       "      <td>...</td>\n",
       "      <td>M</td>\n",
       "      <td>987374</td>\n",
       "      <td>217550</td>\n",
       "      <td>40.763809</td>\n",
       "      <td>-73.988724</td>\n",
       "      <td>(40.763808604000076, -73.98872409799998)</td>\n",
       "      <td>2019</td>\n",
       "      <td>1</td>\n",
       "      <td>1</td>\n",
       "      <td>1</td>\n",
       "    </tr>\n",
       "  </tbody>\n",
       "</table>\n",
       "<p>5 rows × 30 columns</p>\n",
       "</div>"
      ],
      "text/plain": [
       "        CMPLNT_NUM  PRECINT    BOROUGH       DATE      TIME CMPLNT_TO_DT  \\\n",
       "460182   900735981      105     QUEENS 2019-01-01  15:00:00   2019-01-01   \n",
       "460184   495588128       44      BRONX 2019-01-01  18:35:00   2019-01-01   \n",
       "455749   876271073       88   BROOKLYN 2019-01-01   1:00:00   2019-01-01   \n",
       "449662   394629573       44      BRONX 2019-01-01  15:15:00          NaT   \n",
       "460185   579035297       18  MANHATTAN 2019-01-01   2:10:00   2019-01-01   \n",
       "\n",
       "       CMPLNT_TO_TM CRM_ATPT_CPTD_CD  KY_CD OFFENSE LEVEL  ... VIC_SEX  \\\n",
       "460182     15:05:00        COMPLETED    578     VIOLATION  ...       F   \n",
       "460184     18:45:00        COMPLETED    121        FELONY  ...       E   \n",
       "455749     11:00:00        COMPLETED    109        FELONY  ...       F   \n",
       "449662          NaN        COMPLETED    121        FELONY  ...       E   \n",
       "460185      2:30:00        COMPLETED    106        FELONY  ...       M   \n",
       "\n",
       "       X_COORD_CD  Y_COORD_CD   Latitude  Longitude  \\\n",
       "460182    1056264      205572  40.730639 -73.740167   \n",
       "460184    1004749      240880  40.827820 -73.925931   \n",
       "455749     990026      189746  40.687492 -73.979174   \n",
       "449662    1004749      240880  40.827820 -73.925931   \n",
       "460185     987374      217550  40.763809 -73.988724   \n",
       "\n",
       "                                         Lat_Lon  YEAR MONTH DAY WEEKDAY  \n",
       "460182  (40.730639403000055, -73.74016656399994)  2019     1   1       1  \n",
       "460184  (40.827819901000055, -73.92593075599996)  2019     1   1       1  \n",
       "455749  (40.687492038000066, -73.97917448199998)  2019     1   1       1  \n",
       "449662  (40.827819901000055, -73.92593075599996)  2019     1   1       1  \n",
       "460185  (40.763808604000076, -73.98872409799998)  2019     1   1       1  \n",
       "\n",
       "[5 rows x 30 columns]"
      ]
     },
     "execution_count": 9,
     "metadata": {},
     "output_type": "execute_result"
    }
   ],
   "source": [
    "#filter only 2019 dates from df\n",
    "df_2019 = df[df['DATE'].dt.year == 2019]\n",
    "df_2019.head()"
   ]
  },
  {
   "cell_type": "markdown",
   "metadata": {},
   "source": [
    "## Display amount of Crimes per borough in the data set"
   ]
  },
  {
   "cell_type": "code",
   "execution_count": 10,
   "metadata": {},
   "outputs": [
    {
     "data": {
      "text/plain": [
       "BROOKLYN         129370\n",
       "MANHATTAN        113650\n",
       "BRONX             99002\n",
       "QUEENS            90147\n",
       "STATEN ISLAND     18510\n",
       "UNKNOWN             299\n",
       "Name: BOROUGH, dtype: int64"
      ]
     },
     "execution_count": 10,
     "metadata": {},
     "output_type": "execute_result"
    },
    {
     "data": {
      "image/png": "[encoded data removed]",
      "text/plain": [
       "<Figure size 432x288 with 1 Axes>"
      ]
     },
     "metadata": {},
     "output_type": "display_data"
    }
   ],
   "source": [
    "borough_count = df_2019.BOROUGH.value_counts()\n",
    "borough_count.plot(kind='pie', y = 'BOROUGH', shadow=False,autopct='%1.1f%%', legend = False)\n",
    "borough_count"
   ]
  },
  {
   "cell_type": "markdown",
   "metadata": {},
   "source": [
    "#### We counted the ratio of crime in each borough to the total crimes reported and did a pie plot. Highest crime frequency happened in Brooklyn but not too far of a difference to Manhattan, Bronx, and Queens."
   ]
  },
  {
   "cell_type": "markdown",
   "metadata": {},
   "source": [
    "## Plot frequency of crimes for each borough in 2019"
   ]
  },
  {
   "cell_type": "code",
   "execution_count": 11,
   "metadata": {
    "scrolled": true
   },
   "outputs": [
    {
     "data": {
      "text/plain": [
       "<matplotlib.axes._subplots.AxesSubplot at 0x1a2e1480d0>"
      ]
     },
     "execution_count": 11,
     "metadata": {},
     "output_type": "execute_result"
    },
    {
     "data": {
      "image/png": "[encoded data removed]",
      "text/plain": [
       "<Figure size 432x288 with 1 Axes>"
      ]
     },
     "metadata": {
      "needs_background": "light"
     },
     "output_type": "display_data"
    }
   ],
   "source": [
    "#Plot Bronx in 2019\n",
    "\n",
    "#create subset df with only 2 columns\n",
    "boro_2019 = df_2019[['DATE', 'BOROUGH']]\n",
    "\n",
    "#Create the filter\n",
    "bronx = boro_2019[boro_2019['BOROUGH'] == 'BRONX']\n",
    "\n",
    "# Count the sum of occurences for each date\n",
    "bronx = bronx.DATE.value_counts()\n",
    "\n",
    "# Use resample to organize it into Yearly sums\n",
    "bronx = bronx.resample(rule='M').apply('sum')\n",
    "\n",
    "# Plot\n",
    "bronx.plot(kind='line', title = \"BRONX\")\n"
   ]
  },
  {
   "cell_type": "code",
   "execution_count": 12,
   "metadata": {},
   "outputs": [
    {
     "data": {
      "text/plain": [
       "<matplotlib.axes._subplots.AxesSubplot at 0x1a28c4b6d0>"
      ]
     },
     "execution_count": 12,
     "metadata": {},
     "output_type": "execute_result"
    },
    {
     "data": {
      "image/png": "[encoded data removed]",
      "text/plain": [
       "<Figure size 432x288 with 1 Axes>"
      ]
     },
     "metadata": {
      "needs_background": "light"
     },
     "output_type": "display_data"
    }
   ],
   "source": [
    "#Plot Manhattan in 2019\n",
    "manhattan = boro_2019[boro_2019['BOROUGH'] == 'MANHATTAN']\n",
    "manhattan = manhattan.DATE.value_counts()\n",
    "manhattan = manhattan.resample(rule='M').apply('sum')\n",
    "manhattan.plot(kind='line', title=\"MANHATTAN\")"
   ]
  },
  {
   "cell_type": "code",
   "execution_count": 13,
   "metadata": {},
   "outputs": [
    {
     "data": {
      "text/plain": [
       "<matplotlib.axes._subplots.AxesSubplot at 0x1a2cb8ce90>"
      ]
     },
     "execution_count": 13,
     "metadata": {},
     "output_type": "execute_result"
    },
    {
     "data": {
      "image/png": "[encoded data removed]",
      "text/plain": [
       "<Figure size 432x288 with 1 Axes>"
      ]
     },
     "metadata": {
      "needs_background": "light"
     },
     "output_type": "display_data"
    }
   ],
   "source": [
    "# Plot Queens Crime Frequency by Date \n",
    "queens = boro_2019[boro_2019['BOROUGH'] == 'QUEENS']\n",
    "queens = queens.DATE.value_counts()\n",
    "queens = queens.resample(rule='M').apply('sum')\n",
    "queens.plot(kind='line', title=\"QUEENS\")"
   ]
  },
  {
   "cell_type": "code",
   "execution_count": 14,
   "metadata": {},
   "outputs": [
    {
     "data": {
      "text/plain": [
       "<matplotlib.axes._subplots.AxesSubplot at 0x1a2dc3b910>"
      ]
     },
     "execution_count": 14,
     "metadata": {},
     "output_type": "execute_result"
    },
    {
     "data": {
      "image/png": "[encoded data removed]",
      "text/plain": [
       "<Figure size 432x288 with 1 Axes>"
      ]
     },
     "metadata": {
      "needs_background": "light"
     },
     "output_type": "display_data"
    }
   ],
   "source": [
    "# Plot Staten Island Crime Frequecy by Date\n",
    "\n",
    "staten_island = boro_2019[boro_2019['BOROUGH'] == 'STATEN ISLAND']\n",
    "staten_island = staten_island.DATE.value_counts()\n",
    "staten_island = staten_island.resample(rule='M').apply('sum')\n",
    "staten_island.plot(kind='line', title=\"STATEN ISLAND\")"
   ]
  },
  {
   "cell_type": "markdown",
   "metadata": {},
   "source": [
    "#### All boroughs have a noticeable drop rate in February. Summer seems to be the peak season for crimes, starting in May and the highest and dropping starts in October. The highest crime reported happened in July and lowest are February  and December."
   ]
  },
  {
   "cell_type": "markdown",
   "metadata": {},
   "source": [
    "## Get the frequency of top 10 districts with most crimes (will this be possible if I make map out of this?)"
   ]
  },
  {
   "cell_type": "code",
   "execution_count": 15,
   "metadata": {},
   "outputs": [
    {
     "data": {
      "text/plain": [
       "<matplotlib.axes._subplots.AxesSubplot at 0x1a28733990>"
      ]
     },
     "execution_count": 15,
     "metadata": {},
     "output_type": "execute_result"
    },
    {
     "data": {
      "image/png": "[encoded data removed]",
      "text/plain": [
       "<Figure size 432x288 with 1 Axes>"
      ]
     },
     "metadata": {
      "needs_background": "light"
     },
     "output_type": "display_data"
    }
   ],
   "source": [
    "# Get the top 10 precints with high frequency\n",
    "precint = df.PRECINT.value_counts().head(10)\n",
    "\n",
    "# Sort in descending order\n",
    "precint = precint[::-1]\n",
    "precint\n",
    "\n",
    "# Plot using horizontal bar chart\n",
    "precint.plot(kind='barh', title=\"Crimes per District\")"
   ]
  },
  {
   "cell_type": "markdown",
   "metadata": {},
   "source": [
    "#### The top dictrict with most crimes is Disrict 75, in Manhattan and the following districts are in Brooklyn."
   ]
  },
  {
   "cell_type": "markdown",
   "metadata": {},
   "source": [
    "\n",
    "\n",
    "## Plot the frequency of top 10 crimes committed\n",
    "#### Same step as the top 10 district with most crimes"
   ]
  },
  {
   "cell_type": "code",
   "execution_count": 16,
   "metadata": {},
   "outputs": [
    {
     "data": {
      "text/plain": [
       "<matplotlib.axes._subplots.AxesSubplot at 0x1a2d6c9a90>"
      ]
     },
     "execution_count": 16,
     "metadata": {},
     "output_type": "execute_result"
    },
    {
     "data": {
      "image/png": "[encoded data removed]",
      "text/plain": [
       "<Figure size 432x288 with 1 Axes>"
      ]
     },
     "metadata": {
      "needs_background": "light"
     },
     "output_type": "display_data"
    }
   ],
   "source": [
    "# Get the top 10 precints with high frequency\n",
    "crime_ = df.OFFENSE_NAME.value_counts().head(10)\n",
    "\n",
    "# Sort in descending order\n",
    "crime_= crime_[::-1]\n",
    "\n",
    "# Plot using horizontal bar chart\n",
    "crime_.plot(kind='barh')"
   ]
  },
  {
   "cell_type": "markdown",
   "metadata": {},
   "source": [
    "#### The top 10 most reported crime are violent crime. Studies have shown that victims will most likeley to report a crime if it is violent and theft/larcery."
   ]
  },
  {
   "cell_type": "markdown",
   "metadata": {},
   "source": [
    "## SNS Heatmap of crimes per month for each borough (TBD with Ana)"
   ]
  },
  {
   "cell_type": "code",
   "execution_count": 17,
   "metadata": {
    "scrolled": true
   },
   "outputs": [
    {
     "data": {
      "text/plain": [
       "['PETIT LARCENY',\n",
       " 'HARRASSMENT 2',\n",
       " 'ASSAULT 3 & RELATED OFFENSES',\n",
       " 'CRIMINAL MISCHIEF & RELATED OF',\n",
       " 'GRAND LARCENY',\n",
       " 'FELONY ASSAULT',\n",
       " 'OFF. AGNST PUB ORD SENSBLTY &',\n",
       " 'MISCELLANEOUS PENAL LAW',\n",
       " 'DANGEROUS DRUGS',\n",
       " 'ROBBERY']"
      ]
     },
     "execution_count": 17,
     "metadata": {},
     "output_type": "execute_result"
    }
   ],
   "source": [
    "\n",
    "keep_cols = [\"DATE\", \"OFNS_DESC\", \"MONTH\"]\n",
    "\n",
    "# df_crimes = df_2019.sort_values('OFNS_DESC')\n",
    "\n",
    "# Get the list of the top 10 types of crimes in the dataframe\n",
    "df_crimes = df_2019['OFNS_DESC'].value_counts()[:10].index.tolist()\n",
    "\n",
    "#Filter the dataframe to include only the rows which have the top 10 crimes\n",
    "# df_crimes =\n",
    "\n",
    "df_crimes\n"
   ]
  },
  {
   "cell_type": "code",
   "execution_count": 18,
   "metadata": {},
   "outputs": [
    {
     "ename": "AttributeError",
     "evalue": "'list' object has no attribute 'groupby'",
     "output_type": "error",
     "traceback": [
      "\u001b[0;31m---------------------------------------------------------------------------\u001b[0m",
      "\u001b[0;31mAttributeError\u001b[0m                            Traceback (most recent call last)",
      "\u001b[0;32m<ipython-input-18-678c10d24f05>\u001b[0m in \u001b[0;36m<module>\u001b[0;34m\u001b[0m\n\u001b[0;32m----> 1\u001b[0;31m \u001b[0mcorr\u001b[0m \u001b[0;34m=\u001b[0m \u001b[0mdf_crimes\u001b[0m\u001b[0;34m.\u001b[0m\u001b[0mgroupby\u001b[0m\u001b[0;34m(\u001b[0m\u001b[0;34m[\u001b[0m\u001b[0;34m'OFNS_DESC'\u001b[0m\u001b[0;34m,\u001b[0m \u001b[0;34m'MONTH'\u001b[0m\u001b[0;34m]\u001b[0m\u001b[0;34m)\u001b[0m\u001b[0;34m.\u001b[0m\u001b[0mcount\u001b[0m\u001b[0;34m(\u001b[0m\u001b[0;34m)\u001b[0m\u001b[0;34m.\u001b[0m\u001b[0mDATE\u001b[0m\u001b[0;34m.\u001b[0m\u001b[0munstack\u001b[0m\u001b[0;34m(\u001b[0m\u001b[0;34m)\u001b[0m\u001b[0;34m\u001b[0m\u001b[0;34m\u001b[0m\u001b[0m\n\u001b[0m\u001b[1;32m      2\u001b[0m \u001b[0mfig\u001b[0m\u001b[0;34m,\u001b[0m \u001b[0max\u001b[0m \u001b[0;34m=\u001b[0m \u001b[0mplt\u001b[0m\u001b[0;34m.\u001b[0m\u001b[0msubplots\u001b[0m\u001b[0;34m(\u001b[0m\u001b[0mfigsize\u001b[0m\u001b[0;34m=\u001b[0m\u001b[0;34m(\u001b[0m\u001b[0;36m15\u001b[0m\u001b[0;34m,\u001b[0m\u001b[0;36m13\u001b[0m\u001b[0;34m)\u001b[0m\u001b[0;34m)\u001b[0m\u001b[0;34m\u001b[0m\u001b[0;34m\u001b[0m\u001b[0m\n\u001b[1;32m      3\u001b[0m \u001b[0msns\u001b[0m\u001b[0;34m.\u001b[0m\u001b[0mset\u001b[0m\u001b[0;34m(\u001b[0m\u001b[0mfont_scale\u001b[0m\u001b[0;34m=\u001b[0m\u001b[0;36m1\u001b[0m\u001b[0;34m)\u001b[0m\u001b[0;34m\u001b[0m\u001b[0;34m\u001b[0m\u001b[0m\n\u001b[1;32m      4\u001b[0m sns.heatmap(corr.dropna(axis=0),\n\u001b[1;32m      5\u001b[0m             \u001b[0mannot\u001b[0m\u001b[0;34m=\u001b[0m\u001b[0;32mTrue\u001b[0m\u001b[0;34m,\u001b[0m\u001b[0;34m\u001b[0m\u001b[0;34m\u001b[0m\u001b[0m\n",
      "\u001b[0;31mAttributeError\u001b[0m: 'list' object has no attribute 'groupby'"
     ]
    }
   ],
   "source": [
    "corr = df_crimes.groupby(['OFNS_DESC', 'MONTH']).count().DATE.unstack()\n",
    "fig, ax = plt.subplots(figsize=(15,13))\n",
    "sns.set(font_scale=1)\n",
    "sns.heatmap(corr.dropna(axis=0),\n",
    "            annot=True,\n",
    "            linewidths=0.3,\n",
    "               cmap='Blues',\n",
    "            robust=True,\n",
    "           cbar_kws={'label': 'HOMICIDES'})\n",
    "plt.title('CRIME REPORTS vs CRIME TYPE vs MONTH')"
   ]
  },
  {
   "cell_type": "markdown",
   "metadata": {},
   "source": [
    "## Make bar graph of felony vs misdemeanor vs violation"
   ]
  },
  {
   "cell_type": "code",
   "execution_count": 19,
   "metadata": {},
   "outputs": [
    {
     "name": "stdout",
     "output_type": "stream",
     "text": [
      "<class 'pandas.core.frame.DataFrame'>\n",
      "Int64Index: 460745 entries, 125688 to 0\n",
      "Data columns (total 30 columns):\n",
      "CMPLNT_NUM          460745 non-null int64\n",
      "PRECINT             460745 non-null int64\n",
      "BOROUGH             460745 non-null object\n",
      "DATE                460745 non-null datetime64[ns]\n",
      "TIME                460745 non-null object\n",
      "CMPLNT_TO_DT        402907 non-null datetime64[ns]\n",
      "CMPLNT_TO_TM        403146 non-null object\n",
      "CRM_ATPT_CPTD_CD    460745 non-null object\n",
      "KY_CD               460745 non-null int64\n",
      "OFFENSE LEVEL       460745 non-null object\n",
      "OFNS_DESC           460733 non-null object\n",
      "PATROL_BORO         460437 non-null object\n",
      "PD_CD               460437 non-null float64\n",
      "OFFENSE_NAME        460437 non-null object\n",
      "RPT_DT              460745 non-null datetime64[ns]\n",
      "SUSP_AGE_GROUP      351550 non-null object\n",
      "SUSP_RACE           351550 non-null object\n",
      "SUSP_SEX            351550 non-null object\n",
      "VIC_AGE_GROUP       460742 non-null object\n",
      "VIC_RACE            460742 non-null object\n",
      "VIC_SEX             460742 non-null object\n",
      "X_COORD_CD          460745 non-null int64\n",
      "Y_COORD_CD          460745 non-null int64\n",
      "Latitude            460745 non-null float64\n",
      "Longitude           460745 non-null float64\n",
      "Lat_Lon             460745 non-null object\n",
      "YEAR                460745 non-null int64\n",
      "MONTH               460745 non-null int64\n",
      "DAY                 460745 non-null int64\n",
      "WEEKDAY             460745 non-null int64\n",
      "dtypes: datetime64[ns](3), float64(3), int64(9), object(15)\n",
      "memory usage: 109.0+ MB\n"
     ]
    }
   ],
   "source": [
    "df.info()"
   ]
  },
  {
   "cell_type": "code",
   "execution_count": 20,
   "metadata": {},
   "outputs": [
    {
     "data": {
      "text/plain": [
       "Text(0.5, 1.0, 'FELONY VS MISDEMEANOR VS VIOLATION')"
      ]
     },
     "execution_count": 20,
     "metadata": {},
     "output_type": "execute_result"
    },
    {
     "data": {
      "image/png": "[encoded data removed]",
      "text/plain": [
       "<Figure size 1008x432 with 1 Axes>"
      ]
     },
     "metadata": {
      "needs_background": "light"
     },
     "output_type": "display_data"
    }
   ],
   "source": [
    "fig, ax = plt.subplots(figsize=(14,6))\n",
    "crime_lvl = df[['MONTH','OFFENSE LEVEL']]\n",
    "ax = sns.countplot(x=\"MONTH\",\n",
    "                   hue='OFFENSE LEVEL',\n",
    "                   data=crime_lvl,\n",
    "                   palette=\"PuBuGn_d\")\n",
    "plt.title('FELONY VS MISDEMEANOR VS VIOLATION')"
   ]
  },
  {
   "cell_type": "markdown",
   "metadata": {},
   "source": [
    "#### Looks like misdemeanor is the top offense category of the crimes in NYC. This is better than having majority of the crimes to be felony. We can conclude tha majority of the violent crimes in NYC are misdemanor level crimes."
   ]
  },
  {
   "cell_type": "markdown",
   "metadata": {},
   "source": [
    "### Conclusion:"
   ]
  },
  {
   "cell_type": "markdown",
   "metadata": {},
   "source": []
  }
 ],
 "metadata": {
  "kernelspec": {
   "display_name": "Python 3",
   "language": "python",
   "name": "python3"
  },
  "language_info": {
   "codemirror_mode": {
    "name": "ipython",
    "version": 3
   },
   "file_extension": ".py",
   "mimetype": "text/x-python",
   "name": "python",
   "nbconvert_exporter": "python",
   "pygments_lexer": "ipython3",
   "version": "3.7.4"
  }
 },
 "nbformat": 4,
 "nbformat_minor": 2
}
