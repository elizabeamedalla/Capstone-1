{
 "cells": [
  {
   "cell_type": "markdown",
   "metadata": {},
   "source": [
    "# In-depth Analysis"
   ]
  },
  {
   "cell_type": "code",
   "execution_count": 1,
   "metadata": {},
   "outputs": [],
   "source": [
    "import pandas as pd\n",
    "import numpy as np\n",
    "import matplotlib\n",
    "import matplotlib.pyplot as plt\n",
    "import matplotlib.colors\n",
    "import time\n",
    "from sklearn.preprocessing import LabelEncoder\n",
    "from sklearn.metrics import confusion_matrix, classification_report, roc_curve, roc_auc_score, accuracy_score, auc, precision_recall_fscore_support, f1_score, log_loss\n",
    "from sklearn.linear_model import LogisticRegression\n",
    "from sklearn.ensemble import RandomForestClassifier\n",
    "from sklearn.model_selection import KFold, GridSearchCV\n",
    "from sklearn.neighbors import NearestNeighbors\n",
    "from sklearn.ensemble import RandomForestClassifier\n",
    "from sklearn.feature_selection import SelectFromModel \n",
    "from sklearn.metrics import adjusted_mutual_info_score, SCORERS\n",
    "from sklearn.cluster import KMeans\n",
    "\n",
    "from sklearn.model_selection import train_test_split\n",
    "\n",
    "\n",
    "import datetime as dt\n",
    "import seaborn as sns\n",
    "# df = pd.read_csv('./data/final_NYC_crimes.csv', parse_dates=[['DATE', 'TIME']])\n",
    "df = pd.read_csv('./data/final_NYC_crimes.csv')"
   ]
  },
  {
   "cell_type": "markdown",
   "metadata": {},
   "source": [
    "### Classification Analysis\n",
    "\n",
    "\n",
    "\n",
    "When the true goal of data analysis is to be able to predict which of several non-overlapping groups an observation belongs to, the techniques we use are known as classification techniques.It is a Data analysis task, i.e. the process of finding a model that describes and distinguishes data classes and concepts. Classification is the problem of identifying to which of a set of categories (subpopulations), a new observation belongs to, on the basis of a training set of data containing observations and whose categories membership is known.\n",
    "\n"
   ]
  },
  {
   "cell_type": "markdown",
   "metadata": {},
   "source": [
    "## Utility Functions"
   ]
  },
  {
   "cell_type": "markdown",
   "metadata": {},
   "source": [
    "#### cv_score : This  will be used for scoring our model"
   ]
  },
  {
   "cell_type": "code",
   "execution_count": 2,
   "metadata": {},
   "outputs": [],
   "source": [
    "from sklearn.model_selection import KFold\n",
    "from sklearn.metrics import accuracy_score\n",
    "\n",
    "def cv_score(clf, x, y, score_func=accuracy_score):\n",
    "    result = 0\n",
    "    nfold = 5\n",
    "    for train, test in KFold(nfold).split(x): # split data into train/test groups, 5 times\n",
    "        clf.fit(x[train], y[train]) # fit\n",
    "        result += score_func(clf.predict(x[test]), y[test]) # evaluate score function on held-out data\n",
    "    return result / nfold # average"
   ]
  },
  {
   "cell_type": "markdown",
   "metadata": {},
   "source": [
    "#### hypertuning_fxn : This  will be used for hyperparameter tuning"
   ]
  },
  {
   "cell_type": "code",
   "execution_count": 3,
   "metadata": {},
   "outputs": [],
   "source": [
    "def hypertuning_fxn(X, y, nfolds, model , param_grid, scoring = None, verbose=True, cv = True, \n",
    "                    return_train_score = True): \n",
    "    \n",
    "    \"\"\"function that uses GridSearchCV to test a specified param_grid of hyperparameters and choose the optimal one based on nfolds cross-validation results. \n",
    "\n",
    "    Keyword arguments:\n",
    "    model -- a 'fitted' sklearn model object \n",
    "    X -- predictor matrix (dtype='numpy array', required)\n",
    "    y -- outcome vector (dtype='numpy array', required)\n",
    "    cv -- if True, prints a the roc_auc score from 10-fold crossvalidation (dtype='boolean', default='True')\n",
    "    \"\"\"\n",
    "    \n",
    "    np.random.seed(12345)\n",
    "    \n",
    "    # The scorers can be either be one of the predefined metric strings or a scorer\n",
    "    # callable, like the one returned by make_scorer\n",
    "#     scoring = {'AUC': 'roc_auc_ovr', 'Accuracy': make_scorer(accuracy_score)}\n",
    "\n",
    "    grid_search = GridSearchCV(      estimator= model,\n",
    "                                     param_grid=param_grid,\n",
    "                                     cv=KFold(nfolds), # stratified k-folds will preserve class balances - this function is what got the rest of the code to work with roc validation\n",
    "                                     scoring=scoring,\n",
    "                                     return_train_score=True,\n",
    "                                     n_jobs = -1,\n",
    "                                     verbose = verbose)\n",
    "    \n",
    "#     scoring = {'accuracy': 'accuracy', 'auc': 'roc_auc_ovr'}\n",
    "#     scoring = {'AUC': 'roc_auc', 'Accuracy': make_scorer(accuracy_score)}\n",
    "\n",
    "    grid_search.fit(X, y)\n",
    "    print(\" scorer function: {}\".format(scoring))\n",
    "    print(\" ##### CV performance: mean & sd scores #####\")\n",
    "\n",
    "    means = grid_search.cv_results_['mean_test_score']\n",
    "    stds = grid_search.cv_results_['std_test_score']\n",
    "    \n",
    "    print('best cv score: {:0.3f}'.format(grid_search.best_score_))\n",
    "    print('best cv params: ', grid_search.best_params_)\n",
    "\n",
    "    worst_index=np.argmin(grid_search.cv_results_['mean_test_score'])\n",
    "    print('worst cv score: {:0.3f}'.format(grid_search.cv_results_['mean_test_score'][worst_index]))\n",
    "    print('worst cv params: ', grid_search.cv_results_['params'][worst_index])\n",
    "    ##\n",
    "    if verbose==True:\n",
    "        for mean, std, params in zip(means, stds, grid_search.cv_results_['params']):\n",
    "            print(\"%0.3f (+/-%0.03f) for %r\"% (mean, std * 2, params))\n",
    "    \n",
    "    return(grid_search)\n",
    "#     print(grid_search.cv_results_)"
   ]
  },
  {
   "cell_type": "markdown",
   "metadata": {},
   "source": [
    "#### evaluate_model : This  will be used for evaulating our model"
   ]
  },
  {
   "cell_type": "code",
   "execution_count": 4,
   "metadata": {},
   "outputs": [],
   "source": [
    "\n",
    "def evaluate_model(model, x, y, cv = True):\n",
    "    \"\"\"prints common binary classification evaluation metrics and an ROC curve. \n",
    "\n",
    "    Keyword arguments:\n",
    "    model -- a 'fitted' sklearn model object \n",
    "    x -- predictor matrix (dtype='numpy array', required)\n",
    "    y -- outcome vector (dtype='numpy array', required)\n",
    "    cv -- if True, prints  score from 5-fold crossvalidation (dtype='boolean', default='True')\n",
    "    \"\"\"\n",
    "    import sklearn.metrics\n",
    "    from sklearn.metrics import log_loss, average_precision_score, precision_recall_curve\n",
    "    from sklearn.model_selection import cross_val_score\n",
    "\n",
    "\n",
    "    if cv==True:\n",
    "        cv_results= cross_val_score(model, x, y, scoring='roc_auc_ovo_weighted', cv=Kfold(5))\n",
    "        print(\"across 5 fold cv on trainingset, the model had \\n\", \n",
    "             \"mean auroc: {:0.3f}\".format(np.mean(cv_results)), \"\\n\",\n",
    "             \"std auroc: {:0.3f}\".format(np.std(cv_results))\n",
    "             )\n",
    "\n",
    "        base_cv_score=np.mean(cross_val_score(model, x, y, scoring='roc_auc_ovo_weighted', cv=Kfold(5)))\n",
    "\n",
    "    print(\"###metrics on provided dataset:###\")\n",
    "    \n",
    "    ##basic model performance\n",
    "    y_hat = model.predict(x) # predicted classes using default 0.5 threshold\n",
    "    y_proba = model.predict_proba(x)[:,] #predicted probabilities\n",
    "    auc=roc_auc_score(y, y_proba, multi_class = 'ovr', average = 'weighted')\n",
    "\n",
    "    print ('the AUC is: {:0.3f}'.format(auc))\n",
    "    \n",
    "    # Modify labels for the classification reports\n",
    "    crime_labels = list(range(0,11))\n",
    "    crime_labels = np.asarray(crime_labels)\n",
    "    \n",
    "#     crime_names = df.CRIME_TYPE.tolist().drop_duplicates()\n",
    "    \n",
    "    print(\"classification report:\\n \", classification_report(y, y_hat, labels = crime_labels, target_names = df['CRIME_TYPE'], digits=3))\n",
    "\n",
    "    #ez_roc(model, x, y, pos_label = 1) #plotting roc curve\n",
    "    #plt.show()"
   ]
  },
  {
   "cell_type": "markdown",
   "metadata": {},
   "source": [
    "## Inspecting the Data\n",
    "\n",
    "Here we can see there is a massive skew in the CRIME_TYPE we are trying to predict. We will have to resample our data so that we can hopefully get a more balanced prediction. However, this means we have to give up a large portion of the data, and can only predict from 4 CRIME_TYPEs."
   ]
  },
  {
   "cell_type": "code",
   "execution_count": 5,
   "metadata": {},
   "outputs": [
    {
     "data": {
      "text/html": [
       "<div>\n",
       "<style scoped>\n",
       "    .dataframe tbody tr th:only-of-type {\n",
       "        vertical-align: middle;\n",
       "    }\n",
       "\n",
       "    .dataframe tbody tr th {\n",
       "        vertical-align: top;\n",
       "    }\n",
       "\n",
       "    .dataframe thead th {\n",
       "        text-align: right;\n",
       "    }\n",
       "</style>\n",
       "<table border=\"1\" class=\"dataframe\">\n",
       "  <thead>\n",
       "    <tr style=\"text-align: right;\">\n",
       "      <th></th>\n",
       "      <th>CMPLNT_NUM</th>\n",
       "      <th>DISTRICT</th>\n",
       "      <th>BOROUGH</th>\n",
       "      <th>DATE</th>\n",
       "      <th>TIME</th>\n",
       "      <th>CRM_ATPT_CPTD_CD</th>\n",
       "      <th>OFFENSE LEVEL</th>\n",
       "      <th>PREM_TYP_DESC</th>\n",
       "      <th>OFFENSE_NAME</th>\n",
       "      <th>SUSP_AGE_GROUP</th>\n",
       "      <th>...</th>\n",
       "      <th>VIC_SEX</th>\n",
       "      <th>X_COORD_CD</th>\n",
       "      <th>Y_COORD_CD</th>\n",
       "      <th>Latitude</th>\n",
       "      <th>Longitude</th>\n",
       "      <th>Lat_Lon</th>\n",
       "      <th>YEAR</th>\n",
       "      <th>MONTH</th>\n",
       "      <th>DAY</th>\n",
       "      <th>CRIME_TYPE</th>\n",
       "    </tr>\n",
       "  </thead>\n",
       "  <tbody>\n",
       "    <tr>\n",
       "      <th>0</th>\n",
       "      <td>314773184</td>\n",
       "      <td>48</td>\n",
       "      <td>BRONX</td>\n",
       "      <td>2019-12-31</td>\n",
       "      <td>18:00:00</td>\n",
       "      <td>COMPLETED</td>\n",
       "      <td>FELONY</td>\n",
       "      <td>STREET</td>\n",
       "      <td>ROBBERY</td>\n",
       "      <td>UNKNOWN</td>\n",
       "      <td>...</td>\n",
       "      <td>F</td>\n",
       "      <td>1016990</td>\n",
       "      <td>244612</td>\n",
       "      <td>40.838026</td>\n",
       "      <td>-73.881681</td>\n",
       "      <td>(40.838026269000075, -73.88168118799997)</td>\n",
       "      <td>2019</td>\n",
       "      <td>12</td>\n",
       "      <td>31</td>\n",
       "      <td>ROBBERY</td>\n",
       "    </tr>\n",
       "    <tr>\n",
       "      <th>1</th>\n",
       "      <td>289837961</td>\n",
       "      <td>25</td>\n",
       "      <td>MANHATTAN</td>\n",
       "      <td>2019-12-30</td>\n",
       "      <td>20:30:00</td>\n",
       "      <td>COMPLETED</td>\n",
       "      <td>MISDEMEANOR</td>\n",
       "      <td>RESIDENCE - APT. HOUSE</td>\n",
       "      <td>PETIT LARCENY</td>\n",
       "      <td>UNKNOWN</td>\n",
       "      <td>...</td>\n",
       "      <td>F</td>\n",
       "      <td>999296</td>\n",
       "      <td>230862</td>\n",
       "      <td>40.800334</td>\n",
       "      <td>-73.945657</td>\n",
       "      <td>(40.800334261000046, -73.94565697199994)</td>\n",
       "      <td>2019</td>\n",
       "      <td>12</td>\n",
       "      <td>30</td>\n",
       "      <td>LARCENY</td>\n",
       "    </tr>\n",
       "    <tr>\n",
       "      <th>2</th>\n",
       "      <td>535744284</td>\n",
       "      <td>77</td>\n",
       "      <td>BROOKLYN</td>\n",
       "      <td>2019-12-24</td>\n",
       "      <td>16:55:00</td>\n",
       "      <td>COMPLETED</td>\n",
       "      <td>FELONY</td>\n",
       "      <td>STREET</td>\n",
       "      <td>FELONY ASSAULT</td>\n",
       "      <td>UNKNOWN</td>\n",
       "      <td>...</td>\n",
       "      <td>M</td>\n",
       "      <td>1001068</td>\n",
       "      <td>183317</td>\n",
       "      <td>40.669832</td>\n",
       "      <td>-73.939376</td>\n",
       "      <td>(40.66983179600004, -73.93937555099996)</td>\n",
       "      <td>2019</td>\n",
       "      <td>12</td>\n",
       "      <td>24</td>\n",
       "      <td>ASSAULT</td>\n",
       "    </tr>\n",
       "    <tr>\n",
       "      <th>3</th>\n",
       "      <td>895678119</td>\n",
       "      <td>52</td>\n",
       "      <td>BRONX</td>\n",
       "      <td>2019-12-30</td>\n",
       "      <td>19:32:00</td>\n",
       "      <td>COMPLETED</td>\n",
       "      <td>MISDEMEANOR</td>\n",
       "      <td>CHAIN STORE</td>\n",
       "      <td>PETIT LARCENY</td>\n",
       "      <td>25-44</td>\n",
       "      <td>...</td>\n",
       "      <td>D</td>\n",
       "      <td>1009690</td>\n",
       "      <td>257590</td>\n",
       "      <td>40.873671</td>\n",
       "      <td>-73.908014</td>\n",
       "      <td>(40.87367103500002, -73.90801364899994)</td>\n",
       "      <td>2019</td>\n",
       "      <td>12</td>\n",
       "      <td>30</td>\n",
       "      <td>LARCENY</td>\n",
       "    </tr>\n",
       "    <tr>\n",
       "      <th>4</th>\n",
       "      <td>299841674</td>\n",
       "      <td>18</td>\n",
       "      <td>MANHATTAN</td>\n",
       "      <td>2019-12-30</td>\n",
       "      <td>15:30:00</td>\n",
       "      <td>COMPLETED</td>\n",
       "      <td>MISDEMEANOR</td>\n",
       "      <td>STREET</td>\n",
       "      <td>PETIT LARCENY</td>\n",
       "      <td>UNKNOWN</td>\n",
       "      <td>...</td>\n",
       "      <td>M</td>\n",
       "      <td>985766</td>\n",
       "      <td>216503</td>\n",
       "      <td>40.760935</td>\n",
       "      <td>-73.994529</td>\n",
       "      <td>(40.76093528000007, -73.99452906599998)</td>\n",
       "      <td>2019</td>\n",
       "      <td>12</td>\n",
       "      <td>30</td>\n",
       "      <td>LARCENY</td>\n",
       "    </tr>\n",
       "  </tbody>\n",
       "</table>\n",
       "<p>5 rows × 24 columns</p>\n",
       "</div>"
      ],
      "text/plain": [
       "   CMPLNT_NUM  DISTRICT    BOROUGH        DATE      TIME CRM_ATPT_CPTD_CD  \\\n",
       "0   314773184        48      BRONX  2019-12-31  18:00:00        COMPLETED   \n",
       "1   289837961        25  MANHATTAN  2019-12-30  20:30:00        COMPLETED   \n",
       "2   535744284        77   BROOKLYN  2019-12-24  16:55:00        COMPLETED   \n",
       "3   895678119        52      BRONX  2019-12-30  19:32:00        COMPLETED   \n",
       "4   299841674        18  MANHATTAN  2019-12-30  15:30:00        COMPLETED   \n",
       "\n",
       "  OFFENSE LEVEL           PREM_TYP_DESC    OFFENSE_NAME SUSP_AGE_GROUP  ...  \\\n",
       "0        FELONY                  STREET         ROBBERY        UNKNOWN  ...   \n",
       "1   MISDEMEANOR  RESIDENCE - APT. HOUSE   PETIT LARCENY        UNKNOWN  ...   \n",
       "2        FELONY                  STREET  FELONY ASSAULT        UNKNOWN  ...   \n",
       "3   MISDEMEANOR             CHAIN STORE   PETIT LARCENY          25-44  ...   \n",
       "4   MISDEMEANOR                  STREET   PETIT LARCENY        UNKNOWN  ...   \n",
       "\n",
       "  VIC_SEX X_COORD_CD Y_COORD_CD   Latitude  Longitude  \\\n",
       "0       F    1016990     244612  40.838026 -73.881681   \n",
       "1       F     999296     230862  40.800334 -73.945657   \n",
       "2       M    1001068     183317  40.669832 -73.939376   \n",
       "3       D    1009690     257590  40.873671 -73.908014   \n",
       "4       M     985766     216503  40.760935 -73.994529   \n",
       "\n",
       "                                    Lat_Lon  YEAR  MONTH  DAY CRIME_TYPE  \n",
       "0  (40.838026269000075, -73.88168118799997)  2019     12   31    ROBBERY  \n",
       "1  (40.800334261000046, -73.94565697199994)  2019     12   30    LARCENY  \n",
       "2   (40.66983179600004, -73.93937555099996)  2019     12   24    ASSAULT  \n",
       "3   (40.87367103500002, -73.90801364899994)  2019     12   30    LARCENY  \n",
       "4   (40.76093528000007, -73.99452906599998)  2019     12   30    LARCENY  \n",
       "\n",
       "[5 rows x 24 columns]"
      ]
     },
     "execution_count": 5,
     "metadata": {},
     "output_type": "execute_result"
    }
   ],
   "source": [
    "df.head()"
   ]
  },
  {
   "cell_type": "code",
   "execution_count": 6,
   "metadata": {},
   "outputs": [
    {
     "data": {
      "text/plain": [
       "LARCENY                             134122\n",
       "OFFENSES_AGAINST_PUBLIC_ORDER        74031\n",
       "ASSAULT                              73102\n",
       "HARRASSMENT                          71000\n",
       "MISC_PENAL_LAW                       14048\n",
       "BURGLARY                             13973\n",
       "POSSESSION_CONTROLLED_SUBSSTANCE     13367\n",
       "ROBBERY                              13325\n",
       "FRAUD                                10876\n",
       "POSSESSION_WEAPON                     7791\n",
       "SEX_CRIMES                            7535\n",
       "TRAFFIC_LAWS_VIOLATION                6740\n",
       "DRIVING_UNDER_INFLUENCE               4366\n",
       "THEFT                                 3053\n",
       "UNCLASSIFIED                          1969\n",
       "ARSON                                  675\n",
       "MURDER                                 303\n",
       "GAMBLING                               289\n",
       "SOCIAL_RELATED_CRIMES                  287\n",
       "KIDNAPPING                             126\n",
       "Name: CRIME_TYPE, dtype: int64"
      ]
     },
     "execution_count": 6,
     "metadata": {},
     "output_type": "execute_result"
    }
   ],
   "source": [
    "df['CRIME_TYPE'].value_counts()"
   ]
  },
  {
   "cell_type": "code",
   "execution_count": 7,
   "metadata": {},
   "outputs": [
    {
     "data": {
      "image/png": "[encoded data removed]",
      "text/plain": [
       "<Figure size 432x288 with 1 Axes>"
      ]
     },
     "metadata": {
      "needs_background": "light"
     },
     "output_type": "display_data"
    }
   ],
   "source": [
    "# Plot The top 10 crimes\n",
    "\n",
    "crime_df10 = df.CRIME_TYPE.value_counts().head(10)\n",
    "\n",
    "crime_df10 = pd.DataFrame(crime_df10)\n",
    "\n",
    "plt1 = crime_df10.plot(kind=\"bar\", color = \"tomato\")\n",
    "plt1.tick_params(axis=\"x\", labelsize = 10, labelrotation = 90)\n",
    "plt1.set_title(\"Top 10 Crime Types\")\n",
    "plt1.get_legend().remove()"
   ]
  },
  {
   "cell_type": "markdown",
   "metadata": {},
   "source": [
    "## Feature Engineering\n",
    "\n",
    "In this step, we are resampling the data by Crime Type. We are taking the top 4 crimes, and constructing our dataset using 70,000 rows of each crime."
   ]
  },
  {
   "cell_type": "code",
   "execution_count": 8,
   "metadata": {},
   "outputs": [
    {
     "name": "stdout",
     "output_type": "stream",
     "text": [
      "<class 'pandas.core.frame.DataFrame'>\n",
      "RangeIndex: 450978 entries, 0 to 450977\n",
      "Data columns (total 24 columns):\n",
      " #   Column            Non-Null Count   Dtype  \n",
      "---  ------            --------------   -----  \n",
      " 0   CMPLNT_NUM        450978 non-null  int64  \n",
      " 1   DISTRICT          450978 non-null  int64  \n",
      " 2   BOROUGH           450978 non-null  object \n",
      " 3   DATE              450978 non-null  object \n",
      " 4   TIME              450978 non-null  object \n",
      " 5   CRM_ATPT_CPTD_CD  450978 non-null  object \n",
      " 6   OFFENSE LEVEL     450978 non-null  object \n",
      " 7   PREM_TYP_DESC     450978 non-null  object \n",
      " 8   OFFENSE_NAME      450978 non-null  object \n",
      " 9   SUSP_AGE_GROUP    450978 non-null  object \n",
      " 10  SUSP_RACE         450978 non-null  object \n",
      " 11  SUSP_SEX          450978 non-null  object \n",
      " 12  VIC_AGE_GROUP     450978 non-null  object \n",
      " 13  VIC_RACE          450978 non-null  object \n",
      " 14  VIC_SEX           450975 non-null  object \n",
      " 15  X_COORD_CD        450978 non-null  int64  \n",
      " 16  Y_COORD_CD        450978 non-null  int64  \n",
      " 17  Latitude          450978 non-null  float64\n",
      " 18  Longitude         450978 non-null  float64\n",
      " 19  Lat_Lon           450978 non-null  object \n",
      " 20  YEAR              450978 non-null  int64  \n",
      " 21  MONTH             450978 non-null  int64  \n",
      " 22  DAY               450978 non-null  int64  \n",
      " 23  CRIME_TYPE        450978 non-null  object \n",
      "dtypes: float64(2), int64(7), object(15)\n",
      "memory usage: 82.6+ MB\n"
     ]
    }
   ],
   "source": [
    "df.info()"
   ]
  },
  {
   "cell_type": "code",
   "execution_count": 9,
   "metadata": {},
   "outputs": [],
   "source": [
    "# Select features. Features are columns from the dataframe, except CRIME_TYPE\n",
    "features = ['BOROUGH', 'DISTRICT', 'MONTH', 'VIC_AGE_GROUP', 'VIC_RACE','VIC_SEX', 'SUSP_AGE_GROUP', 'SUSP_RACE', 'SUSP_SEX']"
   ]
  },
  {
   "cell_type": "markdown",
   "metadata": {},
   "source": [
    "## Prepare Data \n",
    "In this step, we are resampling the data by Crime Type. We are taking the top 4 crimes, and constructing our dataset using 70,000 rows of each crime.\n",
    "\n",
    "Then we are splitting the dataframe into X (features) and Y (results), One-Hot Encoding the categorical variables, then finally converting the dataframes into NumPy arrays and using train_test_split to get our training and testing data."
   ]
  },
  {
   "cell_type": "code",
   "execution_count": 10,
   "metadata": {},
   "outputs": [],
   "source": [
    "### Resample Data\n",
    "\n",
    "# Step 1 : Resample Data to contain 70,000 rows each of the top 4 crimes\n",
    "top_4_crimes = df['CRIME_TYPE'].value_counts().head(4).index.tolist()\n",
    "\n",
    "# do the for loop where you filter by each crime\n",
    "df_resampled = []\n",
    "\n",
    "for crime in top_4_crimes:\n",
    "    # filter df to only include this crime\n",
    "    # use .head()\n",
    "    new_df = df.loc[df['CRIME_TYPE'] == crime].head(70000)\n",
    "    \n",
    "    # append the new df to df_resampled\n",
    "    df_resampled.append(new_df)\n",
    "    \n",
    "crime_model = pd.concat(df_resampled)\n",
    "\n",
    "# Step 2: Divide dataset into inputs (crime_x) and output variable (crime_y)\n",
    "crime_x = crime_model[features]\n",
    "crime_y = crime_model[['CRIME_TYPE']]"
   ]
  },
  {
   "cell_type": "code",
   "execution_count": 11,
   "metadata": {},
   "outputs": [],
   "source": [
    "# We can see here that there are multiple values that occur only once. \n",
    "# This will impair our one-hot encoding. \n",
    "# We can use thresholding to rename these values to one value\n"
   ]
  },
  {
   "cell_type": "code",
   "execution_count": 12,
   "metadata": {},
   "outputs": [
    {
     "name": "stdout",
     "output_type": "stream",
     "text": [
      "True\n"
     ]
    },
    {
     "name": "stderr",
     "output_type": "stream",
     "text": [
      "/Users/bea/opt/anaconda3/lib/python3.7/site-packages/pandas/core/indexing.py:844: SettingWithCopyWarning: \n",
      "A value is trying to be set on a copy of a slice from a DataFrame.\n",
      "Try using .loc[row_indexer,col_indexer] = value instead\n",
      "\n",
      "See the caveats in the documentation: https://pandas.pydata.org/pandas-docs/stable/user_guide/indexing.html#returning-a-view-versus-a-copy\n",
      "  self.obj[key] = _infer_fill_value(value)\n",
      "/Users/bea/opt/anaconda3/lib/python3.7/site-packages/pandas/core/indexing.py:965: SettingWithCopyWarning: \n",
      "A value is trying to be set on a copy of a slice from a DataFrame.\n",
      "Try using .loc[row_indexer,col_indexer] = value instead\n",
      "\n",
      "See the caveats in the documentation: https://pandas.pydata.org/pandas-docs/stable/user_guide/indexing.html#returning-a-view-versus-a-copy\n",
      "  self.obj[item] = s\n"
     ]
    }
   ],
   "source": [
    "### One Hot Encoding Categorical variables\n",
    "# Using this tutorial: https://youtu.be/YOR6rQTTEAQ\n",
    "\n",
    "# Thresholding: (Not needed but useful information)\n",
    "# This removes items that occur tiny amounts in a column. \n",
    "# By renaming these items that are under the threshold, \n",
    "# We can minimize the columns that are created through one-hot encoding\n",
    "\n",
    "# Apply the count threshold to all the categorical values\n",
    "# rows = df.shape[0]\n",
    "# threshold = rows * 0.005\n",
    "# print('The minimum count threshold is: '+ str(threshold))\n",
    "# obj_columns = list(df.select_dtypes(include=['object']).columns) # Get a list of all the columns' names with object dtype\n",
    "# obj_columns.remove('CRIME_TYPE') # remove target column\n",
    "# crime_x = crime_x.apply(lambda x: x.mask(x.map(x.value_counts()) < threshold, 'RARE') if x.name in obj_columns else x)\n",
    "\n",
    "# One-hot Encode Categorical values in crime_x\n",
    "crime_x_ohe = pd.get_dummies(crime_x)\n",
    "\n",
    "# One-hot Encode Categorical values in crime_y\n",
    "crime_y.loc[:, 'CRIME_TYPE_CODE'] = pd.factorize(crime_y['CRIME_TYPE'])[0].reshape(-1,1)\n",
    "crime_y_ohe = crime_y[['CRIME_TYPE_CODE']]\n",
    "\n",
    "# Make sure crime_x and crime_y have the same rows\n",
    "print(crime_x.shape[0] == crime_y.shape[0])"
   ]
  },
  {
   "cell_type": "code",
   "execution_count": 13,
   "metadata": {},
   "outputs": [],
   "source": [
    "### Split data into train/test\n",
    "\n",
    "# Step 5: Convert Dataframes to NumPy arrays\n",
    "crime_x = np.array(crime_x_ohe)\n",
    "crime_y = np.array(crime_y_ohe)\n",
    "\n",
    "crime_y = crime_y.reshape(-1)\n",
    "\n",
    "# Step 6 using train_test_split\n",
    "x_train, x_test, y_train, y_test = train_test_split(crime_x, crime_y, test_size=0.25)"
   ]
  },
  {
   "cell_type": "markdown",
   "metadata": {},
   "source": [
    "#### Resampling method for multiclass data\n",
    "(Unused, but might be useful info later) Since we have skewed data, we want to resample data to make it balanced. \n",
    "The data is skewed somehow"
   ]
  },
  {
   "cell_type": "code",
   "execution_count": 14,
   "metadata": {},
   "outputs": [],
   "source": [
    "# # Authors: Guillaume Lemaitre <g.lemaitre58@gmail.com>\n",
    "# # License: MIT\n",
    "\n",
    "# # Using imblearn resampling methods from:\n",
    "# # https://heartbeat.fritz.ai/resampling-to-properly-handle-imbalanced-datasets-in-machine-learning-64d82c16ceaa\n",
    "\n",
    "# from imblearn.under_sampling import RandomUnderSampler\n",
    "\n",
    "# # create the object.\n",
    "# under_sampler = RandomUnderSampler()\n",
    "\n",
    "# # Undersampling: fit the object to the training data.\n",
    "# x_train_under, y_train_under = under_sampler.fit_sample(x_train, y_train)"
   ]
  },
  {
   "cell_type": "markdown",
   "metadata": {},
   "source": [
    "##  Logistic regression\n",
    "Basic, no-frills Logistic Regression"
   ]
  },
  {
   "cell_type": "code",
   "execution_count": 15,
   "metadata": {},
   "outputs": [
    {
     "name": "stdout",
     "output_type": "stream",
     "text": [
      "Training Accuracy: 0.5346619047619048\n",
      "Testing Accuracy: 0.5343857142857142\n"
     ]
    },
    {
     "name": "stderr",
     "output_type": "stream",
     "text": [
      "/Users/bea/opt/anaconda3/lib/python3.7/site-packages/sklearn/linear_model/_logistic.py:764: ConvergenceWarning: lbfgs failed to converge (status=1):\n",
      "STOP: TOTAL NO. of ITERATIONS REACHED LIMIT.\n",
      "\n",
      "Increase the number of iterations (max_iter) or scale the data as shown in:\n",
      "    https://scikit-learn.org/stable/modules/preprocessing.html\n",
      "Please also refer to the documentation for alternative solver options:\n",
      "    https://scikit-learn.org/stable/modules/linear_model.html#logistic-regression\n",
      "  extra_warning_msg=_LOGISTIC_SOLVER_CONVERGENCE_MSG)\n"
     ]
    }
   ],
   "source": [
    "from sklearn.linear_model import LogisticRegression\n",
    "from sklearn.metrics import accuracy_score\n",
    "\n",
    "logModel = LogisticRegression()\n",
    "\n",
    "# Fit the model on the training data.\n",
    "logModel.fit(x_train, y_train)\n",
    "\n",
    "# Print the accuracy from the testing data.\n",
    "train_score = (accuracy_score(logModel.predict(x_train), y_train))\n",
    "test_score = (accuracy_score(logModel.predict(x_test), y_test))\n",
    "\n",
    "print(\"Training Accuracy:\",  train_score)\n",
    "print(\"Testing Accuracy:\",  test_score)"
   ]
  },
  {
   "cell_type": "markdown",
   "metadata": {},
   "source": [
    "### Logistic Regression Confusion Matrix"
   ]
  },
  {
   "cell_type": "code",
   "execution_count": 16,
   "metadata": {},
   "outputs": [
    {
     "data": {
      "image/png": "[encoded data removed]",
      "text/plain": [
       "<Figure size 648x648 with 2 Axes>"
      ]
     },
     "metadata": {
      "needs_background": "light"
     },
     "output_type": "display_data"
    }
   ],
   "source": [
    "from sklearn import metrics\n",
    "\n",
    "predictions = logModel.predict(x_test)\n",
    "\n",
    "cm = metrics.confusion_matrix(y_test, predictions)\n",
    "\n",
    "plt.figure(figsize=(9,9))\n",
    "sns.heatmap(cm, annot=True, fmt=\".3f\", linewidths=.5, square = True, cmap = 'Blues_r');\n",
    "plt.ylabel('Actual label');\n",
    "plt.xlabel('Predicted label');\n",
    "all_sample_title = 'Accuracy Score: {0}'.format(test_score)\n",
    "plt.title(all_sample_title, size = 15);"
   ]
  },
  {
   "cell_type": "markdown",
   "metadata": {},
   "source": [
    "### Hyperparameter tuning"
   ]
  },
  {
   "cell_type": "code",
   "execution_count": 17,
   "metadata": {},
   "outputs": [],
   "source": [
    "from sklearn.model_selection import GridSearchCV\n",
    "\n",
    "param_grid = {\n",
    "  'penalty': ['l1', 'l2', 'elasticnet'],\n",
    "  'solver': ['lbgfs', 'liblinear', 'saga']\n",
    "}\n",
    "\n",
    "clf = GridSearchCV(logModel, param_grid, cv=3, verbose=True, n_jobs=-1)"
   ]
  },
  {
   "cell_type": "code",
   "execution_count": 18,
   "metadata": {},
   "outputs": [],
   "source": [
    "# (Commented out) This hypertuning takes about 1 minute\n",
    "# LogisticRegression(penalty='l1', solver='liblinear')\n",
    "\n",
    "# logModel_best = clf.fit(x_train,y_train)\n",
    "# logModel_best = logModel_best.best_estimator_"
   ]
  },
  {
   "cell_type": "markdown",
   "metadata": {},
   "source": [
    "### Evaluate Logistic Regression using new hyperparameters"
   ]
  },
  {
   "cell_type": "code",
   "execution_count": 19,
   "metadata": {},
   "outputs": [
    {
     "name": "stdout",
     "output_type": "stream",
     "text": [
      "Training Accuracy: 0.5472476190476191\n",
      "Testing Accuracy: 0.5458571428571428\n"
     ]
    }
   ],
   "source": [
    "# Last best estimator: \n",
    "logModel_best = LogisticRegression(penalty='l1', solver='liblinear')\n",
    "\n",
    "# Fit the model on the training data.\n",
    "logModel_best.fit(x_train, y_train)\n",
    "\n",
    "# Print the accuracy from the testing data.\n",
    "train_score = logModel_best.score(x_train, y_train)\n",
    "test_score = logModel_best.score(x_test, y_test)\n",
    "\n",
    "print(\"Training Accuracy:\",  train_score)\n",
    "print(\"Testing Accuracy:\",  test_score)"
   ]
  },
  {
   "cell_type": "markdown",
   "metadata": {},
   "source": [
    "We can see that after hyperparameter tuning, we were able to increase the testing accuracy from 0.537 to 0.548"
   ]
  },
  {
   "cell_type": "markdown",
   "metadata": {},
   "source": [
    "## Random Forest\n",
    "This function includes parameters for stratified cross-fold validation and supports code for hyperparameter tuning for a random forest model. Because we are working with a multi-classification problem, we evaluate our logistic regression models with one-vs-one classification."
   ]
  },
  {
   "cell_type": "markdown",
   "metadata": {},
   "source": [
    "### Basic Random Forest Classifer"
   ]
  },
  {
   "cell_type": "code",
   "execution_count": 20,
   "metadata": {},
   "outputs": [
    {
     "data": {
      "text/plain": [
       "RandomForestClassifier()"
      ]
     },
     "execution_count": 20,
     "metadata": {},
     "output_type": "execute_result"
    }
   ],
   "source": [
    "from sklearn.ensemble import RandomForestClassifier\n",
    "rf_model = RandomForestClassifier()\n",
    "rf_model.fit(x_train, y_train)"
   ]
  },
  {
   "cell_type": "code",
   "execution_count": 21,
   "metadata": {},
   "outputs": [
    {
     "name": "stdout",
     "output_type": "stream",
     "text": [
      "Training Accuracy: 0.8526476190476191\n",
      "Testing Accuracy: 0.5092571428571429\n"
     ]
    }
   ],
   "source": [
    "train_score = (accuracy_score(rf_model.predict(x_train), y_train))\n",
    "test_score = (accuracy_score(rf_model.predict(x_test), y_test))\n",
    "print(\"Training Accuracy:\",  train_score)\n",
    "print(\"Testing Accuracy:\",  test_score)"
   ]
  },
  {
   "cell_type": "markdown",
   "metadata": {},
   "source": [
    "Looks like the model is overfit to the training data. We can fix this using hyperparameter tuning."
   ]
  },
  {
   "cell_type": "markdown",
   "metadata": {},
   "source": [
    "### Random Forest Confusion Matrix\n"
   ]
  },
  {
   "cell_type": "code",
   "execution_count": 22,
   "metadata": {},
   "outputs": [
    {
     "data": {
      "image/png": "[encoded data removed]",
      "text/plain": [
       "<Figure size 648x648 with 2 Axes>"
      ]
     },
     "metadata": {
      "needs_background": "light"
     },
     "output_type": "display_data"
    }
   ],
   "source": [
    "y_predict = rf_model.predict(x_test)\n",
    "\n",
    "cm = confusion_matrix(y_test, y_predict)\n",
    "plt.figure(figsize=(9,9))\n",
    "sns.heatmap(cm, annot=True, fmt=\".3f\", linewidths=.5, square = True, cmap = 'Blues_r');\n",
    "plt.ylabel('Actual label');\n",
    "plt.xlabel('Predicted label');\n",
    "all_sample_title = 'Accuracy Score: {0}'.format(test_score)\n",
    "plt.title(all_sample_title, size = 15);\n"
   ]
  },
  {
   "cell_type": "markdown",
   "metadata": {},
   "source": [
    "### Random Forest Hyperparameter Tuning"
   ]
  },
  {
   "cell_type": "code",
   "execution_count": 23,
   "metadata": {},
   "outputs": [],
   "source": [
    "# Random Forest HyperParameters\n",
    "\n",
    "# Number of trees in random forest\n",
    "n_estimators = [ 20, 30, 50, 70]\n",
    "# Number of features to consider at every split\n",
    "max_features = ['auto'] # 'auto' which is equivalent to sqrt(n_features)\n",
    "# Maximum number of levels in tree\n",
    "max_depth = [5, 10, 15]\n",
    "# Minimum number of samples required to split a node\n",
    "min_samples_split = [2, 5, 10]\n",
    "# Minimum number of samples required at each leaf node\n",
    "min_samples_leaf = [1, 5, 10]\n",
    "\n",
    "param_grid = {'n_estimators': n_estimators,\n",
    "               'max_features': max_features,\n",
    "               'max_depth': max_depth,\n",
    "               'min_samples_split': min_samples_split,\n",
    "               'min_samples_leaf': min_samples_leaf}"
   ]
  },
  {
   "cell_type": "code",
   "execution_count": 24,
   "metadata": {},
   "outputs": [
    {
     "name": "stdout",
     "output_type": "stream",
     "text": [
      "Training Time in Minutes: 4.80810801188151e-07\n"
     ]
    }
   ],
   "source": [
    "# Do not have to run this every time\n",
    "# Tune hyperparams - This takes about 11-12 minutes. \n",
    "# best cv score: 0.564\n",
    "# best cv params:  {'max_depth': 15, 'max_features': 'auto', 'min_samples_leaf': 10, 'min_samples_split': 2, 'n_estimators': 70}\n",
    "\n",
    "t1 = time.time()\n",
    "\n",
    "# Uncomment to run hypertuning\n",
    "# rf_hyper = hypertuning_fxn(x_train, y_train, nfolds = 3, model = rf_model , param_grid = param_grid, cv = True, return_train_score = True, verbose= True)\n",
    "\n",
    "t2 = time.time()  \n",
    "\n",
    "run_time = t2 - t1\n",
    "print('Training Time in Minutes:', run_time/60)"
   ]
  },
  {
   "cell_type": "code",
   "execution_count": 25,
   "metadata": {},
   "outputs": [],
   "source": [
    "# Best estimator: \n",
    "# print(rf_hyper.best_estimator_)\n",
    "# rf_best = rf_hyper.best_estimator_\n",
    "# rf_best = RandomForestClassifier(criterion='entropy', max_depth=15, min_samples_leaf=10, n_estimators=70, random_state=12345)"
   ]
  },
  {
   "cell_type": "markdown",
   "metadata": {},
   "source": [
    "### Evaluate data using hypertuned Random Forest"
   ]
  },
  {
   "cell_type": "code",
   "execution_count": 26,
   "metadata": {},
   "outputs": [],
   "source": [
    "# Last best estimator: \n",
    "rf_best = RandomForestClassifier(criterion='entropy', max_depth=15, min_samples_leaf=10, n_estimators=70, random_state=12345)"
   ]
  },
  {
   "cell_type": "code",
   "execution_count": 27,
   "metadata": {},
   "outputs": [
    {
     "name": "stdout",
     "output_type": "stream",
     "text": [
      "Training Accuracy: 0.5865857142857143\n",
      "Testing Accuracy: 0.5707\n"
     ]
    }
   ],
   "source": [
    "rf_best.fit(x_train, y_train)\n",
    "train_score = rf_best.score(x_train, y_train)\n",
    "test_score = rf_best.score(x_test, y_test)\n",
    "print(\"Training Accuracy:\",  train_score)\n",
    "print(\"Testing Accuracy:\",  test_score)"
   ]
  },
  {
   "cell_type": "markdown",
   "metadata": {},
   "source": [
    "Looks like the accuracy score got more consistent when we applied the best parameters from our hyperparameter tuning."
   ]
  },
  {
   "cell_type": "code",
   "execution_count": 28,
   "metadata": {},
   "outputs": [
    {
     "data": {
      "image/png": "[encoded data removed]",
      "text/plain": [
       "<Figure size 648x648 with 2 Axes>"
      ]
     },
     "metadata": {
      "needs_background": "light"
     },
     "output_type": "display_data"
    }
   ],
   "source": [
    "y_predict = rf_best.predict(x_test)\n",
    "cm_rf = confusion_matrix(y_test, y_predict)\n",
    "\n",
    "plt.figure(figsize=(9,9))\n",
    "sns.heatmap(cm_rf, annot=True, fmt=\".3f\", linewidths=.5, square = True, cmap = 'Blues_r');\n",
    "plt.ylabel('Actual label');\n",
    "plt.xlabel('Predicted label');\n",
    "all_sample_title = 'Accuracy Score: {0}'.format(test_score)\n",
    "plt.title(all_sample_title, size = 15);"
   ]
  },
  {
   "cell_type": "markdown",
   "metadata": {},
   "source": [
    "In our matrix, looks like 0 is the best one, 2 is decent, while 1 and 3 have worse results."
   ]
  },
  {
   "cell_type": "markdown",
   "metadata": {},
   "source": [
    "## KNN Model"
   ]
  },
  {
   "cell_type": "markdown",
   "metadata": {},
   "source": [
    "### Basic KNN"
   ]
  },
  {
   "cell_type": "code",
   "execution_count": 29,
   "metadata": {},
   "outputs": [
    {
     "name": "stdout",
     "output_type": "stream",
     "text": [
      "Training Accuracy: 0.6451428571428571\n",
      "Testing Accuracy: 0.5045571428571428\n"
     ]
    }
   ],
   "source": [
    "from sklearn.neighbors import KNeighborsClassifier\n",
    "\n",
    "knn = KNeighborsClassifier()\n",
    "knn.fit(x_train,y_train)\n",
    "\n",
    "train_score = knn.score(x_train,y_train)\n",
    "test_score = knn.score(x_test,y_test)\n",
    "\n",
    "print(\"Training Accuracy:\",  train_score)\n",
    "print(\"Testing Accuracy:\",  test_score)"
   ]
  },
  {
   "cell_type": "markdown",
   "metadata": {},
   "source": [
    "### KNN Confusion Matrix"
   ]
  },
  {
   "cell_type": "code",
   "execution_count": 30,
   "metadata": {},
   "outputs": [
    {
     "data": {
      "image/png": "[encoded data removed]",
      "text/plain": [
       "<Figure size 648x648 with 2 Axes>"
      ]
     },
     "metadata": {
      "needs_background": "light"
     },
     "output_type": "display_data"
    }
   ],
   "source": [
    "y_predict = knn.predict(x_test)\n",
    "\n",
    "cm = confusion_matrix(y_test, y_predict)\n",
    "plt.figure(figsize=(9,9))\n",
    "sns.heatmap(cm, annot=True, fmt=\".3f\", linewidths=.5, square = True, cmap = 'Blues_r');\n",
    "plt.ylabel('Actual label');\n",
    "plt.xlabel('Predicted label');\n",
    "all_sample_title = 'Accuracy Score: {0}'.format(test_score)\n",
    "plt.title(all_sample_title, size = 15);"
   ]
  },
  {
   "cell_type": "markdown",
   "metadata": {},
   "source": [
    "### KNN Hyperparameter Tuning"
   ]
  },
  {
   "cell_type": "code",
   "execution_count": 31,
   "metadata": {},
   "outputs": [],
   "source": [
    "# KNN HyperParameters\n",
    "\n",
    "# Number of neighbors to use by default for kneighbors queries.\n",
    "n_neighbors = [ 5, 10, 15, 20, 30]\n",
    "# Weight function used in prediction.\n",
    "weights = ['uniform', 'distance']\n",
    "# Algorithm used to compute the nearest neighbors:\n",
    "algorithm = ['auto', 'ball_tree', 'kd_tree', 'brute']\n",
    "\n",
    "param_grid = {'n_neighbors': n_neighbors,\n",
    "               'weights': weights,\n",
    "               'algorithm': algorithm}"
   ]
  },
  {
   "cell_type": "code",
   "execution_count": 32,
   "metadata": {},
   "outputs": [
    {
     "name": "stdout",
     "output_type": "stream",
     "text": [
      "Training Time in Minutes: 7.033348083496094e-07\n"
     ]
    }
   ],
   "source": [
    "# Do not have to run this every time\n",
    "# Tune hyperparams - \n",
    "\n",
    "t1 = time.time()\n",
    "\n",
    "# Uncomment to run hypertuning\n",
    "# knn_hyper = hypertuning_fxn(x_train, y_train, nfolds = 3, model = knn , param_grid = param_grid, cv = True, return_train_score = True, verbose= True)\n",
    "\n",
    "t2 = time.time()  \n",
    "\n",
    "run_time = t2 - t1\n",
    "print('Training Time in Minutes:', run_time/60)\n",
    "\n",
    "# print(knn_hyper.best_estimator_)"
   ]
  },
  {
   "cell_type": "markdown",
   "metadata": {},
   "source": [
    "### Evaluate data using hypertuned KNN"
   ]
  },
  {
   "cell_type": "code",
   "execution_count": 33,
   "metadata": {},
   "outputs": [],
   "source": [
    "# Last best estimator: \n",
    "# knn_best = KNeighborsClassifier()\n",
    "\n",
    "# knn_best.fit(x_train, y_train)\n",
    "# train_score = knn_best.score(x_train, y_train)\n",
    "# test_score = knn_best.score(x_test, y_test)\n",
    "# print(\"Training Accuracy:\",  train_score)\n",
    "# print(\"Testing Accuracy:\",  test_score)"
   ]
  }
 ],
 "metadata": {
  "kernelspec": {
   "display_name": "Python 3",
   "language": "python",
   "name": "python3"
  },
  "language_info": {
   "codemirror_mode": {
    "name": "ipython",
    "version": 3
   },
   "file_extension": ".py",
   "mimetype": "text/x-python",
   "name": "python",
   "nbconvert_exporter": "python",
   "pygments_lexer": "ipython3",
   "version": "3.7.6"
  }
 },
 "nbformat": 4,
 "nbformat_minor": 2
}
