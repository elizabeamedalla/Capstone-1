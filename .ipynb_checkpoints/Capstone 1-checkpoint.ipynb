{
 "cells": [
  {
   "cell_type": "code",
   "execution_count": 1,
   "metadata": {},
   "outputs": [],
   "source": [
    "import pandas as pd\n",
    "import numpy as np\n",
    "import matplotlib.pyplot as plt\n",
    "%matplotlib inline\n",
    "import re\n",
    "df = pd.read_csv('nyc_crime.csv')"
   ]
  },
  {
   "cell_type": "markdown",
   "metadata": {},
   "source": [
    "## Clean data\n",
    "Delete unnecessary columns and fill NaN values before doing anything\n",
    "Check for duplicates. check for columns .nunique() for columns for unique values "
   ]
  },
  {
   "cell_type": "code",
   "execution_count": 2,
   "metadata": {},
   "outputs": [],
   "source": [
    "# Delete unnecessary columns. Columns that are not needed are: HADEVELOPT, HOUSING_PSA, JURISDICTION_CODE, JURIS_DESC, LOC_OF_OCCUR_DESC, PARKS_NM, STATION_NAME, TRANSIT_DISTRICT.\n",
    "df.drop(['HADEVELOPT', 'HOUSING_PSA', 'PREM_TYP_DESC', 'JURISDICTION_CODE', 'JURIS_DESC', 'LOC_OF_OCCUR_DESC', 'PARKS_NM', 'STATION_NAME', 'TRANSIT_DISTRICT'], axis=1, inplace=True)"
   ]
  },
  {
   "cell_type": "code",
   "execution_count": 3,
   "metadata": {},
   "outputs": [],
   "source": [
    "# Rename columns.\n",
    "df = df.rename(columns={\"BORO_NM\": \"BOROUGH\", \"CMPLNT_FR_DT\": \"DATE\", \"CMPLNT_FR_TM\": \"TIME\", \"LAW_CAT_CD\": \"OFFENSE_LEVEL\", \"ADDR_PCT_CD\": \"PRECINT\", \"PD_DESC\": \"OFFENSE_NAME\"})\n",
    "\n",
    "# Fill in NaN values on BORO_NM\n",
    "df[\"BOROUGH\"].fillna(\"UNKNOWN\", inplace = True) "
   ]
  },
  {
   "cell_type": "code",
   "execution_count": 4,
   "metadata": {},
   "outputs": [
    {
     "data": {
      "text/html": [
       "<div>\n",
       "<style scoped>\n",
       "    .dataframe tbody tr th:only-of-type {\n",
       "        vertical-align: middle;\n",
       "    }\n",
       "\n",
       "    .dataframe tbody tr th {\n",
       "        vertical-align: top;\n",
       "    }\n",
       "\n",
       "    .dataframe thead th {\n",
       "        text-align: right;\n",
       "    }\n",
       "</style>\n",
       "<table border=\"1\" class=\"dataframe\">\n",
       "  <thead>\n",
       "    <tr style=\"text-align: right;\">\n",
       "      <th></th>\n",
       "      <th>CMPLNT_NUM</th>\n",
       "      <th>PRECINT</th>\n",
       "      <th>BOROUGH</th>\n",
       "      <th>DATE</th>\n",
       "      <th>TIME</th>\n",
       "      <th>CMPLNT_TO_DT</th>\n",
       "      <th>CMPLNT_TO_TM</th>\n",
       "      <th>CRM_ATPT_CPTD_CD</th>\n",
       "      <th>KY_CD</th>\n",
       "      <th>OFFENSE_LEVEL</th>\n",
       "      <th>...</th>\n",
       "      <th>SUSP_RACE</th>\n",
       "      <th>SUSP_SEX</th>\n",
       "      <th>VIC_AGE_GROUP</th>\n",
       "      <th>VIC_RACE</th>\n",
       "      <th>VIC_SEX</th>\n",
       "      <th>X_COORD_CD</th>\n",
       "      <th>Y_COORD_CD</th>\n",
       "      <th>Latitude</th>\n",
       "      <th>Longitude</th>\n",
       "      <th>Lat_Lon</th>\n",
       "    </tr>\n",
       "  </thead>\n",
       "  <tbody>\n",
       "    <tr>\n",
       "      <td>0</td>\n",
       "      <td>314773184</td>\n",
       "      <td>48</td>\n",
       "      <td>BRONX</td>\n",
       "      <td>2019-12-31</td>\n",
       "      <td>18:00:00</td>\n",
       "      <td>NaT</td>\n",
       "      <td>NaN</td>\n",
       "      <td>COMPLETED</td>\n",
       "      <td>105</td>\n",
       "      <td>FELONY</td>\n",
       "      <td>...</td>\n",
       "      <td>UNKNOWN</td>\n",
       "      <td>U</td>\n",
       "      <td>45-64</td>\n",
       "      <td>WHITE HISPANIC</td>\n",
       "      <td>F</td>\n",
       "      <td>1016990</td>\n",
       "      <td>244612</td>\n",
       "      <td>40.838026</td>\n",
       "      <td>-73.881681</td>\n",
       "      <td>(40.838026269000075, -73.88168118799997)</td>\n",
       "    </tr>\n",
       "    <tr>\n",
       "      <td>1</td>\n",
       "      <td>289837961</td>\n",
       "      <td>25</td>\n",
       "      <td>MANHATTAN</td>\n",
       "      <td>2019-12-30</td>\n",
       "      <td>20:30:00</td>\n",
       "      <td>2019-12-31</td>\n",
       "      <td>10:00:00</td>\n",
       "      <td>COMPLETED</td>\n",
       "      <td>341</td>\n",
       "      <td>MISDEMEANOR</td>\n",
       "      <td>...</td>\n",
       "      <td>NaN</td>\n",
       "      <td>NaN</td>\n",
       "      <td>25-44</td>\n",
       "      <td>WHITE HISPANIC</td>\n",
       "      <td>F</td>\n",
       "      <td>999296</td>\n",
       "      <td>230862</td>\n",
       "      <td>40.800334</td>\n",
       "      <td>-73.945657</td>\n",
       "      <td>(40.800334261000046, -73.94565697199994)</td>\n",
       "    </tr>\n",
       "    <tr>\n",
       "      <td>2</td>\n",
       "      <td>535744284</td>\n",
       "      <td>77</td>\n",
       "      <td>BROOKLYN</td>\n",
       "      <td>2019-12-24</td>\n",
       "      <td>16:55:00</td>\n",
       "      <td>2019-12-24</td>\n",
       "      <td>17:00:00</td>\n",
       "      <td>COMPLETED</td>\n",
       "      <td>106</td>\n",
       "      <td>FELONY</td>\n",
       "      <td>...</td>\n",
       "      <td>BLACK</td>\n",
       "      <td>M</td>\n",
       "      <td>18-24</td>\n",
       "      <td>WHITE</td>\n",
       "      <td>M</td>\n",
       "      <td>1001068</td>\n",
       "      <td>183317</td>\n",
       "      <td>40.669832</td>\n",
       "      <td>-73.939376</td>\n",
       "      <td>(40.66983179600004, -73.93937555099996)</td>\n",
       "    </tr>\n",
       "    <tr>\n",
       "      <td>3</td>\n",
       "      <td>895678119</td>\n",
       "      <td>52</td>\n",
       "      <td>BRONX</td>\n",
       "      <td>2019-12-30</td>\n",
       "      <td>19:32:00</td>\n",
       "      <td>NaT</td>\n",
       "      <td>NaN</td>\n",
       "      <td>COMPLETED</td>\n",
       "      <td>341</td>\n",
       "      <td>MISDEMEANOR</td>\n",
       "      <td>...</td>\n",
       "      <td>WHITE</td>\n",
       "      <td>F</td>\n",
       "      <td>UNKNOWN</td>\n",
       "      <td>UNKNOWN</td>\n",
       "      <td>D</td>\n",
       "      <td>1009690</td>\n",
       "      <td>257590</td>\n",
       "      <td>40.873671</td>\n",
       "      <td>-73.908014</td>\n",
       "      <td>(40.87367103500002, -73.90801364899994)</td>\n",
       "    </tr>\n",
       "    <tr>\n",
       "      <td>4</td>\n",
       "      <td>299841674</td>\n",
       "      <td>18</td>\n",
       "      <td>MANHATTAN</td>\n",
       "      <td>2019-12-30</td>\n",
       "      <td>15:30:00</td>\n",
       "      <td>2019-12-30</td>\n",
       "      <td>16:50:00</td>\n",
       "      <td>COMPLETED</td>\n",
       "      <td>341</td>\n",
       "      <td>MISDEMEANOR</td>\n",
       "      <td>...</td>\n",
       "      <td>NaN</td>\n",
       "      <td>NaN</td>\n",
       "      <td>25-44</td>\n",
       "      <td>WHITE HISPANIC</td>\n",
       "      <td>M</td>\n",
       "      <td>985766</td>\n",
       "      <td>216503</td>\n",
       "      <td>40.760935</td>\n",
       "      <td>-73.994529</td>\n",
       "      <td>(40.76093528000007, -73.99452906599998)</td>\n",
       "    </tr>\n",
       "  </tbody>\n",
       "</table>\n",
       "<p>5 rows × 26 columns</p>\n",
       "</div>"
      ],
      "text/plain": [
       "   CMPLNT_NUM  PRECINT    BOROUGH       DATE      TIME CMPLNT_TO_DT  \\\n",
       "0   314773184       48      BRONX 2019-12-31  18:00:00          NaT   \n",
       "1   289837961       25  MANHATTAN 2019-12-30  20:30:00   2019-12-31   \n",
       "2   535744284       77   BROOKLYN 2019-12-24  16:55:00   2019-12-24   \n",
       "3   895678119       52      BRONX 2019-12-30  19:32:00          NaT   \n",
       "4   299841674       18  MANHATTAN 2019-12-30  15:30:00   2019-12-30   \n",
       "\n",
       "  CMPLNT_TO_TM CRM_ATPT_CPTD_CD  KY_CD OFFENSE_LEVEL  ... SUSP_RACE SUSP_SEX  \\\n",
       "0          NaN        COMPLETED    105        FELONY  ...   UNKNOWN        U   \n",
       "1     10:00:00        COMPLETED    341   MISDEMEANOR  ...       NaN      NaN   \n",
       "2     17:00:00        COMPLETED    106        FELONY  ...     BLACK        M   \n",
       "3          NaN        COMPLETED    341   MISDEMEANOR  ...     WHITE        F   \n",
       "4     16:50:00        COMPLETED    341   MISDEMEANOR  ...       NaN      NaN   \n",
       "\n",
       "   VIC_AGE_GROUP        VIC_RACE VIC_SEX X_COORD_CD Y_COORD_CD   Latitude  \\\n",
       "0          45-64  WHITE HISPANIC       F    1016990     244612  40.838026   \n",
       "1          25-44  WHITE HISPANIC       F     999296     230862  40.800334   \n",
       "2          18-24           WHITE       M    1001068     183317  40.669832   \n",
       "3        UNKNOWN         UNKNOWN       D    1009690     257590  40.873671   \n",
       "4          25-44  WHITE HISPANIC       M     985766     216503  40.760935   \n",
       "\n",
       "   Longitude                                   Lat_Lon  \n",
       "0 -73.881681  (40.838026269000075, -73.88168118799997)  \n",
       "1 -73.945657  (40.800334261000046, -73.94565697199994)  \n",
       "2 -73.939376   (40.66983179600004, -73.93937555099996)  \n",
       "3 -73.908014   (40.87367103500002, -73.90801364899994)  \n",
       "4 -73.994529   (40.76093528000007, -73.99452906599998)  \n",
       "\n",
       "[5 rows x 26 columns]"
      ]
     },
     "execution_count": 4,
     "metadata": {},
     "output_type": "execute_result"
    }
   ],
   "source": [
    "# Change the dates to datetime format\n",
    "df['DATE'] = pd.to_datetime(df['DATE'])\n",
    "df['CMPLNT_TO_DT'] = pd.to_datetime(df['CMPLNT_TO_DT'], errors='coerce')\n",
    "df['RPT_DT'] = pd.to_datetime(df['RPT_DT'], errors='coerce')\n",
    "df.head()"
   ]
  },
  {
   "cell_type": "code",
   "execution_count": 35,
   "metadata": {},
   "outputs": [
    {
     "data": {
      "text/html": [
       "<div>\n",
       "<style scoped>\n",
       "    .dataframe tbody tr th:only-of-type {\n",
       "        vertical-align: middle;\n",
       "    }\n",
       "\n",
       "    .dataframe tbody tr th {\n",
       "        vertical-align: top;\n",
       "    }\n",
       "\n",
       "    .dataframe thead th {\n",
       "        text-align: right;\n",
       "    }\n",
       "</style>\n",
       "<table border=\"1\" class=\"dataframe\">\n",
       "  <thead>\n",
       "    <tr style=\"text-align: right;\">\n",
       "      <th></th>\n",
       "      <th>CMPLNT_NUM</th>\n",
       "      <th>PRECINT</th>\n",
       "      <th>BOROUGH</th>\n",
       "      <th>DATE</th>\n",
       "      <th>TIME</th>\n",
       "      <th>CMPLNT_TO_DT</th>\n",
       "      <th>CMPLNT_TO_TM</th>\n",
       "      <th>CRM_ATPT_CPTD_CD</th>\n",
       "      <th>KY_CD</th>\n",
       "      <th>OFFENSE_LEVEL</th>\n",
       "      <th>...</th>\n",
       "      <th>Longitude</th>\n",
       "      <th>Lat_Lon</th>\n",
       "      <th>Year</th>\n",
       "      <th>Month</th>\n",
       "      <th>Day</th>\n",
       "      <th>Weekday</th>\n",
       "      <th>YEAR</th>\n",
       "      <th>MONTH</th>\n",
       "      <th>DAY</th>\n",
       "      <th>WEEKDAY</th>\n",
       "    </tr>\n",
       "  </thead>\n",
       "  <tbody>\n",
       "    <tr>\n",
       "      <td>125688</td>\n",
       "      <td>863566396</td>\n",
       "      <td>100</td>\n",
       "      <td>QUEENS</td>\n",
       "      <td>2015-01-01</td>\n",
       "      <td>0:00:00</td>\n",
       "      <td>2019-07-21</td>\n",
       "      <td>11:26:00</td>\n",
       "      <td>COMPLETED</td>\n",
       "      <td>126</td>\n",
       "      <td>FELONY</td>\n",
       "      <td>...</td>\n",
       "      <td>-73.816522</td>\n",
       "      <td>(40.58646552900007, -73.81652172299994)</td>\n",
       "      <td>2015</td>\n",
       "      <td>1</td>\n",
       "      <td>1</td>\n",
       "      <td>3</td>\n",
       "      <td>2015</td>\n",
       "      <td>1</td>\n",
       "      <td>1</td>\n",
       "      <td>3</td>\n",
       "    </tr>\n",
       "    <tr>\n",
       "      <td>282710</td>\n",
       "      <td>697020556</td>\n",
       "      <td>32</td>\n",
       "      <td>MANHATTAN</td>\n",
       "      <td>2015-01-01</td>\n",
       "      <td>0:01:00</td>\n",
       "      <td>2015-12-31</td>\n",
       "      <td>23:59:00</td>\n",
       "      <td>ATTEMPTED</td>\n",
       "      <td>233</td>\n",
       "      <td>MISDEMEANOR</td>\n",
       "      <td>...</td>\n",
       "      <td>-73.945420</td>\n",
       "      <td>(40.81573205300003, -73.94542041099999)</td>\n",
       "      <td>2015</td>\n",
       "      <td>1</td>\n",
       "      <td>1</td>\n",
       "      <td>3</td>\n",
       "      <td>2015</td>\n",
       "      <td>1</td>\n",
       "      <td>1</td>\n",
       "      <td>3</td>\n",
       "    </tr>\n",
       "    <tr>\n",
       "      <td>248855</td>\n",
       "      <td>593721081</td>\n",
       "      <td>73</td>\n",
       "      <td>BROOKLYN</td>\n",
       "      <td>2015-01-01</td>\n",
       "      <td>0:00:00</td>\n",
       "      <td>2017-01-01</td>\n",
       "      <td>0:00:00</td>\n",
       "      <td>COMPLETED</td>\n",
       "      <td>116</td>\n",
       "      <td>FELONY</td>\n",
       "      <td>...</td>\n",
       "      <td>-73.913391</td>\n",
       "      <td>(40.670655072000045, -73.91339091999998)</td>\n",
       "      <td>2015</td>\n",
       "      <td>1</td>\n",
       "      <td>1</td>\n",
       "      <td>3</td>\n",
       "      <td>2015</td>\n",
       "      <td>1</td>\n",
       "      <td>1</td>\n",
       "      <td>3</td>\n",
       "    </tr>\n",
       "    <tr>\n",
       "      <td>18538</td>\n",
       "      <td>202268858</td>\n",
       "      <td>43</td>\n",
       "      <td>BRONX</td>\n",
       "      <td>2015-01-01</td>\n",
       "      <td>15:00:00</td>\n",
       "      <td>2016-12-31</td>\n",
       "      <td>15:30:00</td>\n",
       "      <td>COMPLETED</td>\n",
       "      <td>233</td>\n",
       "      <td>MISDEMEANOR</td>\n",
       "      <td>...</td>\n",
       "      <td>-73.869690</td>\n",
       "      <td>(40.82310129900002, -73.86969046099993)</td>\n",
       "      <td>2015</td>\n",
       "      <td>1</td>\n",
       "      <td>1</td>\n",
       "      <td>3</td>\n",
       "      <td>2015</td>\n",
       "      <td>1</td>\n",
       "      <td>1</td>\n",
       "      <td>3</td>\n",
       "    </tr>\n",
       "    <tr>\n",
       "      <td>65465</td>\n",
       "      <td>259077023</td>\n",
       "      <td>49</td>\n",
       "      <td>BRONX</td>\n",
       "      <td>2015-01-01</td>\n",
       "      <td>0:00:00</td>\n",
       "      <td>NaT</td>\n",
       "      <td>NaN</td>\n",
       "      <td>COMPLETED</td>\n",
       "      <td>233</td>\n",
       "      <td>MISDEMEANOR</td>\n",
       "      <td>...</td>\n",
       "      <td>-73.844397</td>\n",
       "      <td>(40.85616295700004, -73.84439712399995)</td>\n",
       "      <td>2015</td>\n",
       "      <td>1</td>\n",
       "      <td>1</td>\n",
       "      <td>3</td>\n",
       "      <td>2015</td>\n",
       "      <td>1</td>\n",
       "      <td>1</td>\n",
       "      <td>3</td>\n",
       "    </tr>\n",
       "  </tbody>\n",
       "</table>\n",
       "<p>5 rows × 34 columns</p>\n",
       "</div>"
      ],
      "text/plain": [
       "        CMPLNT_NUM  PRECINT    BOROUGH       DATE      TIME CMPLNT_TO_DT  \\\n",
       "125688   863566396      100     QUEENS 2015-01-01   0:00:00   2019-07-21   \n",
       "282710   697020556       32  MANHATTAN 2015-01-01   0:01:00   2015-12-31   \n",
       "248855   593721081       73   BROOKLYN 2015-01-01   0:00:00   2017-01-01   \n",
       "18538    202268858       43      BRONX 2015-01-01  15:00:00   2016-12-31   \n",
       "65465    259077023       49      BRONX 2015-01-01   0:00:00          NaT   \n",
       "\n",
       "       CMPLNT_TO_TM CRM_ATPT_CPTD_CD  KY_CD OFFENSE_LEVEL  ...  Longitude  \\\n",
       "125688     11:26:00        COMPLETED    126        FELONY  ... -73.816522   \n",
       "282710     23:59:00        ATTEMPTED    233   MISDEMEANOR  ... -73.945420   \n",
       "248855      0:00:00        COMPLETED    116        FELONY  ... -73.913391   \n",
       "18538      15:30:00        COMPLETED    233   MISDEMEANOR  ... -73.869690   \n",
       "65465           NaN        COMPLETED    233   MISDEMEANOR  ... -73.844397   \n",
       "\n",
       "                                         Lat_Lon  Year Month Day Weekday  \\\n",
       "125688   (40.58646552900007, -73.81652172299994)  2015     1   1       3   \n",
       "282710   (40.81573205300003, -73.94542041099999)  2015     1   1       3   \n",
       "248855  (40.670655072000045, -73.91339091999998)  2015     1   1       3   \n",
       "18538    (40.82310129900002, -73.86969046099993)  2015     1   1       3   \n",
       "65465    (40.85616295700004, -73.84439712399995)  2015     1   1       3   \n",
       "\n",
       "        YEAR MONTH DAY WEEKDAY  \n",
       "125688  2015     1   1       3  \n",
       "282710  2015     1   1       3  \n",
       "248855  2015     1   1       3  \n",
       "18538   2015     1   1       3  \n",
       "65465   2015     1   1       3  \n",
       "\n",
       "[5 rows x 34 columns]"
      ]
     },
     "execution_count": 35,
     "metadata": {},
     "output_type": "execute_result"
    }
   ],
   "source": [
    "# Add Columns for Hour, Day, Weekday, Month, Year\n",
    "df['YEAR'] = df['DATE'].dt.year\n",
    "df['MONTH'] = df['DATE'].dt.month\n",
    "df['DAY'] = df['DATE'].dt.day\n",
    "df['WEEKDAY'] = df['DATE'].dt.dayofweek\n",
    "\n",
    "#Sort By Date in descending order\n",
    "df = df.sort_values('DATE')\n",
    "df.head()\n",
    "\n"
   ]
  },
  {
   "cell_type": "code",
   "execution_count": 8,
   "metadata": {},
   "outputs": [
    {
     "data": {
      "text/plain": [
       "460745"
      ]
     },
     "execution_count": 8,
     "metadata": {},
     "output_type": "execute_result"
    }
   ],
   "source": [
    "# Check that each COMPLAINT NUM is unique\n",
    "CN_unique = df['CMPLNT_NUM'].nunique()\n",
    "CN_unique"
   ]
  },
  {
   "cell_type": "markdown",
   "metadata": {},
   "source": [
    "## Plot total crimes each year in Queens "
   ]
  },
  {
   "cell_type": "code",
   "execution_count": 12,
   "metadata": {},
   "outputs": [
    {
     "data": {
      "text/html": [
       "<div>\n",
       "<style scoped>\n",
       "    .dataframe tbody tr th:only-of-type {\n",
       "        vertical-align: middle;\n",
       "    }\n",
       "\n",
       "    .dataframe tbody tr th {\n",
       "        vertical-align: top;\n",
       "    }\n",
       "\n",
       "    .dataframe thead th {\n",
       "        text-align: right;\n",
       "    }\n",
       "</style>\n",
       "<table border=\"1\" class=\"dataframe\">\n",
       "  <thead>\n",
       "    <tr style=\"text-align: right;\">\n",
       "      <th></th>\n",
       "      <th>DATE</th>\n",
       "      <th>BOROUGH</th>\n",
       "    </tr>\n",
       "  </thead>\n",
       "  <tbody>\n",
       "    <tr>\n",
       "      <td>125688</td>\n",
       "      <td>2015-01-01</td>\n",
       "      <td>QUEENS</td>\n",
       "    </tr>\n",
       "    <tr>\n",
       "      <td>436147</td>\n",
       "      <td>2015-01-01</td>\n",
       "      <td>BRONX</td>\n",
       "    </tr>\n",
       "    <tr>\n",
       "      <td>312163</td>\n",
       "      <td>2015-01-01</td>\n",
       "      <td>BRONX</td>\n",
       "    </tr>\n",
       "    <tr>\n",
       "      <td>311798</td>\n",
       "      <td>2015-01-01</td>\n",
       "      <td>MANHATTAN</td>\n",
       "    </tr>\n",
       "    <tr>\n",
       "      <td>360886</td>\n",
       "      <td>2015-01-01</td>\n",
       "      <td>BROOKLYN</td>\n",
       "    </tr>\n",
       "    <tr>\n",
       "      <td>...</td>\n",
       "      <td>...</td>\n",
       "      <td>...</td>\n",
       "    </tr>\n",
       "    <tr>\n",
       "      <td>6890</td>\n",
       "      <td>2019-12-31</td>\n",
       "      <td>BROOKLYN</td>\n",
       "    </tr>\n",
       "    <tr>\n",
       "      <td>2552</td>\n",
       "      <td>2019-12-31</td>\n",
       "      <td>BRONX</td>\n",
       "    </tr>\n",
       "    <tr>\n",
       "      <td>6880</td>\n",
       "      <td>2019-12-31</td>\n",
       "      <td>BROOKLYN</td>\n",
       "    </tr>\n",
       "    <tr>\n",
       "      <td>10995</td>\n",
       "      <td>2019-12-31</td>\n",
       "      <td>STATEN ISLAND</td>\n",
       "    </tr>\n",
       "    <tr>\n",
       "      <td>0</td>\n",
       "      <td>2019-12-31</td>\n",
       "      <td>BRONX</td>\n",
       "    </tr>\n",
       "  </tbody>\n",
       "</table>\n",
       "<p>460745 rows × 2 columns</p>\n",
       "</div>"
      ],
      "text/plain": [
       "             DATE        BOROUGH\n",
       "125688 2015-01-01         QUEENS\n",
       "436147 2015-01-01          BRONX\n",
       "312163 2015-01-01          BRONX\n",
       "311798 2015-01-01      MANHATTAN\n",
       "360886 2015-01-01       BROOKLYN\n",
       "...           ...            ...\n",
       "6890   2019-12-31       BROOKLYN\n",
       "2552   2019-12-31          BRONX\n",
       "6880   2019-12-31       BROOKLYN\n",
       "10995  2019-12-31  STATEN ISLAND\n",
       "0      2019-12-31          BRONX\n",
       "\n",
       "[460745 rows x 2 columns]"
      ]
     },
     "execution_count": 12,
     "metadata": {},
     "output_type": "execute_result"
    }
   ],
   "source": [
    "# Create a subset dataframe by combining columns\n",
    "date_and_borough_df = df[['DATE', 'BOROUGH']]\n",
    "date_and_borough_df"
   ]
  },
  {
   "cell_type": "code",
   "execution_count": 13,
   "metadata": {},
   "outputs": [
    {
     "data": {
      "text/plain": [
       "<matplotlib.axes._subplots.AxesSubplot at 0x10fb31810>"
      ]
     },
     "execution_count": 13,
     "metadata": {},
     "output_type": "execute_result"
    },
    {
     "data": {
      "image/png": "[encoded data removed]",
      "text/plain": [
       "<Figure size 432x288 with 1 Axes>"
      ]
     },
     "metadata": {
      "needs_background": "light"
     },
     "output_type": "display_data"
    }
   ],
   "source": [
    "# Plot Queens Crime Frequency by Date \n",
    "\n",
    "#Create the filter\n",
    "queens = date_and_borough_df[date_and_borough_df['BOROUGH'] == 'QUEENS']\n",
    "\n",
    "# Count the sum of occurences for each date\n",
    "queens_date_count = queens.DATE.value_counts()\n",
    "\n",
    "# Use resample to organize it into Yearly sums\n",
    "queens_date_count = queens_date_count.resample(rule='Y').apply('sum')\n",
    "queens_date_count\n",
    "\n",
    "#Plot \n",
    "queens_date_count.plot(kind='bar')"
   ]
  },
  {
   "cell_type": "markdown",
   "metadata": {},
   "source": [
    "# There are fewer recorded crimes from 2015 to 2018 because NYC OpenData and NYPD Database did not merge until 2017. We will be using the crime statistics in 2019 from now on."
   ]
  },
  {
   "cell_type": "code",
   "execution_count": 37,
   "metadata": {},
   "outputs": [
    {
     "data": {
      "text/html": [
       "<div>\n",
       "<style scoped>\n",
       "    .dataframe tbody tr th:only-of-type {\n",
       "        vertical-align: middle;\n",
       "    }\n",
       "\n",
       "    .dataframe tbody tr th {\n",
       "        vertical-align: top;\n",
       "    }\n",
       "\n",
       "    .dataframe thead th {\n",
       "        text-align: right;\n",
       "    }\n",
       "</style>\n",
       "<table border=\"1\" class=\"dataframe\">\n",
       "  <thead>\n",
       "    <tr style=\"text-align: right;\">\n",
       "      <th></th>\n",
       "      <th>CMPLNT_NUM</th>\n",
       "      <th>PRECINT</th>\n",
       "      <th>BOROUGH</th>\n",
       "      <th>DATE</th>\n",
       "      <th>TIME</th>\n",
       "      <th>CMPLNT_TO_DT</th>\n",
       "      <th>CMPLNT_TO_TM</th>\n",
       "      <th>CRM_ATPT_CPTD_CD</th>\n",
       "      <th>KY_CD</th>\n",
       "      <th>OFFENSE_LEVEL</th>\n",
       "      <th>...</th>\n",
       "      <th>Longitude</th>\n",
       "      <th>Lat_Lon</th>\n",
       "      <th>Year</th>\n",
       "      <th>Month</th>\n",
       "      <th>Day</th>\n",
       "      <th>Weekday</th>\n",
       "      <th>YEAR</th>\n",
       "      <th>MONTH</th>\n",
       "      <th>DAY</th>\n",
       "      <th>WEEKDAY</th>\n",
       "    </tr>\n",
       "  </thead>\n",
       "  <tbody>\n",
       "    <tr>\n",
       "      <td>213058</td>\n",
       "      <td>223968786</td>\n",
       "      <td>104</td>\n",
       "      <td>QUEENS</td>\n",
       "      <td>2019-01-01</td>\n",
       "      <td>1:00:00</td>\n",
       "      <td>2019-07-24</td>\n",
       "      <td>17:00:00</td>\n",
       "      <td>COMPLETED</td>\n",
       "      <td>351</td>\n",
       "      <td>MISDEMEANOR</td>\n",
       "      <td>...</td>\n",
       "      <td>-73.904667</td>\n",
       "      <td>(40.69594126800007, -73.90466704699998)</td>\n",
       "      <td>2019</td>\n",
       "      <td>1</td>\n",
       "      <td>1</td>\n",
       "      <td>1</td>\n",
       "      <td>2019</td>\n",
       "      <td>1</td>\n",
       "      <td>1</td>\n",
       "      <td>1</td>\n",
       "    </tr>\n",
       "    <tr>\n",
       "      <td>443545</td>\n",
       "      <td>659939723</td>\n",
       "      <td>19</td>\n",
       "      <td>MANHATTAN</td>\n",
       "      <td>2019-01-01</td>\n",
       "      <td>15:30:00</td>\n",
       "      <td>2019-01-01</td>\n",
       "      <td>15:40:00</td>\n",
       "      <td>COMPLETED</td>\n",
       "      <td>109</td>\n",
       "      <td>FELONY</td>\n",
       "      <td>...</td>\n",
       "      <td>-73.966360</td>\n",
       "      <td>(40.76474020200004, -73.96636024699995)</td>\n",
       "      <td>2019</td>\n",
       "      <td>1</td>\n",
       "      <td>1</td>\n",
       "      <td>1</td>\n",
       "      <td>2019</td>\n",
       "      <td>1</td>\n",
       "      <td>1</td>\n",
       "      <td>1</td>\n",
       "    </tr>\n",
       "    <tr>\n",
       "      <td>459971</td>\n",
       "      <td>916420198</td>\n",
       "      <td>122</td>\n",
       "      <td>STATEN ISLAND</td>\n",
       "      <td>2019-01-01</td>\n",
       "      <td>18:09:00</td>\n",
       "      <td>NaT</td>\n",
       "      <td>NaN</td>\n",
       "      <td>COMPLETED</td>\n",
       "      <td>578</td>\n",
       "      <td>VIOLATION</td>\n",
       "      <td>...</td>\n",
       "      <td>-74.143237</td>\n",
       "      <td>(40.55953028900007, -74.14323652399997)</td>\n",
       "      <td>2019</td>\n",
       "      <td>1</td>\n",
       "      <td>1</td>\n",
       "      <td>1</td>\n",
       "      <td>2019</td>\n",
       "      <td>1</td>\n",
       "      <td>1</td>\n",
       "      <td>1</td>\n",
       "    </tr>\n",
       "    <tr>\n",
       "      <td>457740</td>\n",
       "      <td>571781214</td>\n",
       "      <td>63</td>\n",
       "      <td>BROOKLYN</td>\n",
       "      <td>2019-01-01</td>\n",
       "      <td>19:15:00</td>\n",
       "      <td>2019-01-01</td>\n",
       "      <td>19:20:00</td>\n",
       "      <td>COMPLETED</td>\n",
       "      <td>361</td>\n",
       "      <td>MISDEMEANOR</td>\n",
       "      <td>...</td>\n",
       "      <td>-73.930286</td>\n",
       "      <td>(40.61605628300003, -73.93028632099998)</td>\n",
       "      <td>2019</td>\n",
       "      <td>1</td>\n",
       "      <td>1</td>\n",
       "      <td>1</td>\n",
       "      <td>2019</td>\n",
       "      <td>1</td>\n",
       "      <td>1</td>\n",
       "      <td>1</td>\n",
       "    </tr>\n",
       "    <tr>\n",
       "      <td>370691</td>\n",
       "      <td>160179085</td>\n",
       "      <td>123</td>\n",
       "      <td>STATEN ISLAND</td>\n",
       "      <td>2019-01-01</td>\n",
       "      <td>0:00:00</td>\n",
       "      <td>2019-03-16</td>\n",
       "      <td>0:00:00</td>\n",
       "      <td>COMPLETED</td>\n",
       "      <td>351</td>\n",
       "      <td>MISDEMEANOR</td>\n",
       "      <td>...</td>\n",
       "      <td>-74.196714</td>\n",
       "      <td>(40.54185412100002, -74.19671416999995)</td>\n",
       "      <td>2019</td>\n",
       "      <td>1</td>\n",
       "      <td>1</td>\n",
       "      <td>1</td>\n",
       "      <td>2019</td>\n",
       "      <td>1</td>\n",
       "      <td>1</td>\n",
       "      <td>1</td>\n",
       "    </tr>\n",
       "  </tbody>\n",
       "</table>\n",
       "<p>5 rows × 34 columns</p>\n",
       "</div>"
      ],
      "text/plain": [
       "        CMPLNT_NUM  PRECINT        BOROUGH       DATE      TIME CMPLNT_TO_DT  \\\n",
       "213058   223968786      104         QUEENS 2019-01-01   1:00:00   2019-07-24   \n",
       "443545   659939723       19      MANHATTAN 2019-01-01  15:30:00   2019-01-01   \n",
       "459971   916420198      122  STATEN ISLAND 2019-01-01  18:09:00          NaT   \n",
       "457740   571781214       63       BROOKLYN 2019-01-01  19:15:00   2019-01-01   \n",
       "370691   160179085      123  STATEN ISLAND 2019-01-01   0:00:00   2019-03-16   \n",
       "\n",
       "       CMPLNT_TO_TM CRM_ATPT_CPTD_CD  KY_CD OFFENSE_LEVEL  ...  Longitude  \\\n",
       "213058     17:00:00        COMPLETED    351   MISDEMEANOR  ... -73.904667   \n",
       "443545     15:40:00        COMPLETED    109        FELONY  ... -73.966360   \n",
       "459971          NaN        COMPLETED    578     VIOLATION  ... -74.143237   \n",
       "457740     19:20:00        COMPLETED    361   MISDEMEANOR  ... -73.930286   \n",
       "370691      0:00:00        COMPLETED    351   MISDEMEANOR  ... -74.196714   \n",
       "\n",
       "                                        Lat_Lon  Year Month Day Weekday  YEAR  \\\n",
       "213058  (40.69594126800007, -73.90466704699998)  2019     1   1       1  2019   \n",
       "443545  (40.76474020200004, -73.96636024699995)  2019     1   1       1  2019   \n",
       "459971  (40.55953028900007, -74.14323652399997)  2019     1   1       1  2019   \n",
       "457740  (40.61605628300003, -73.93028632099998)  2019     1   1       1  2019   \n",
       "370691  (40.54185412100002, -74.19671416999995)  2019     1   1       1  2019   \n",
       "\n",
       "       MONTH DAY WEEKDAY  \n",
       "213058     1   1       1  \n",
       "443545     1   1       1  \n",
       "459971     1   1       1  \n",
       "457740     1   1       1  \n",
       "370691     1   1       1  \n",
       "\n",
       "[5 rows x 34 columns]"
      ]
     },
     "execution_count": 37,
     "metadata": {},
     "output_type": "execute_result"
    }
   ],
   "source": [
    "#filter only 2019 dates from df\n",
    "df_2019 = df[df['DATE'].dt.year == 2019]\n",
    "df_2019.head()"
   ]
  },
  {
   "cell_type": "markdown",
   "metadata": {},
   "source": [
    "## Display amount of Crimes per borough in the data set"
   ]
  },
  {
   "cell_type": "code",
   "execution_count": 15,
   "metadata": {},
   "outputs": [
    {
     "data": {
      "text/plain": [
       "BROOKLYN         129370\n",
       "MANHATTAN        113650\n",
       "BRONX             99002\n",
       "QUEENS            90147\n",
       "STATEN ISLAND     18510\n",
       "UNKNOWN             299\n",
       "Name: BOROUGH, dtype: int64"
      ]
     },
     "execution_count": 15,
     "metadata": {},
     "output_type": "execute_result"
    },
    {
     "data": {
      "image/png": "[encoded data removed]",
      "text/plain": [
       "<Figure size 432x288 with 1 Axes>"
      ]
     },
     "metadata": {},
     "output_type": "display_data"
    }
   ],
   "source": [
    "borough_count = df_2019.BOROUGH.value_counts()\n",
    "\n",
    "borough_count.plot(kind='pie', y = 'BOROUGH', shadow=False,autopct='%1.1f%%', legend = False)\n",
    "\n",
    "# (kind='pie', y = 'total_arrests', ax=ax1, autopct='%1.1f%%', \n",
    "#  startangle=90, shadow=False, labels=df['officer_name'], legend = False, fontsize=14)\n",
    "borough_count"
   ]
  },
  {
   "cell_type": "markdown",
   "metadata": {},
   "source": [
    "## Plot frequency of crimes for each borough in 2019"
   ]
  },
  {
   "cell_type": "code",
   "execution_count": 22,
   "metadata": {
    "scrolled": true
   },
   "outputs": [
    {
     "data": {
      "text/plain": [
       "<matplotlib.axes._subplots.AxesSubplot at 0x1287e8fd0>"
      ]
     },
     "execution_count": 22,
     "metadata": {},
     "output_type": "execute_result"
    },
    {
     "data": {
      "image/png": "[encoded data removed]",
      "text/plain": [
       "<Figure size 432x288 with 1 Axes>"
      ]
     },
     "metadata": {
      "needs_background": "light"
     },
     "output_type": "display_data"
    }
   ],
   "source": [
    "#Plot Bronx in 2019\n",
    "\n",
    "#create subset df with only 2 columns\n",
    "boro_2019 = df_2019[['DATE', 'BOROUGH']]\n",
    "\n",
    "#Create the filter\n",
    "bronx = boro_2019[boro_2019['BOROUGH'] == 'BRONX']\n",
    "\n",
    "# Count the sum of occurences for each date\n",
    "bronx = bronx.DATE.value_counts()\n",
    "\n",
    "# Use resample to organize it into Yearly sums\n",
    "bronx = bronx.resample(rule='M').apply('sum')\n",
    "\n",
    "# Plot\n",
    "bronx.plot(kind='line')\n"
   ]
  },
  {
   "cell_type": "code",
   "execution_count": 23,
   "metadata": {},
   "outputs": [
    {
     "data": {
      "text/plain": [
       "<matplotlib.axes._subplots.AxesSubplot at 0x12a94cf50>"
      ]
     },
     "execution_count": 23,
     "metadata": {},
     "output_type": "execute_result"
    },
    {
     "data": {
      "image/png": "[encoded data removed]",
      "text/plain": [
       "<Figure size 432x288 with 1 Axes>"
      ]
     },
     "metadata": {
      "needs_background": "light"
     },
     "output_type": "display_data"
    }
   ],
   "source": [
    "#Plot Manhattan in 2019\n",
    "manhattan = boro_2019[boro_2019['BOROUGH'] == 'MANHATTAN']\n",
    "manhattan = manhattan.DATE.value_counts()\n",
    "manhattan = manhattan.resample(rule='M').apply('sum')\n",
    "manhattan.plot(kind='line')"
   ]
  },
  {
   "cell_type": "code",
   "execution_count": 24,
   "metadata": {},
   "outputs": [
    {
     "data": {
      "text/plain": [
       "<matplotlib.axes._subplots.AxesSubplot at 0x12a94cc50>"
      ]
     },
     "execution_count": 24,
     "metadata": {},
     "output_type": "execute_result"
    },
    {
     "data": {
      "image/png": "[encoded data removed]",
      "text/plain": [
       "<Figure size 432x288 with 1 Axes>"
      ]
     },
     "metadata": {
      "needs_background": "light"
     },
     "output_type": "display_data"
    }
   ],
   "source": [
    "# Plot Queens Crime Frequency by Date \n",
    "queens = boro_2019[boro_2019['BOROUGH'] == 'QUEENS']\n",
    "queens = queens.DATE.value_counts()\n",
    "queens = queens.resample(rule='M').apply('sum')\n",
    "queens.plot(kind='line')"
   ]
  },
  {
   "cell_type": "code",
   "execution_count": 25,
   "metadata": {},
   "outputs": [
    {
     "data": {
      "text/plain": [
       "<matplotlib.axes._subplots.AxesSubplot at 0x12d740050>"
      ]
     },
     "execution_count": 25,
     "metadata": {},
     "output_type": "execute_result"
    },
    {
     "data": {
      "image/png": "[encoded data removed]",
      "text/plain": [
       "<Figure size 432x288 with 1 Axes>"
      ]
     },
     "metadata": {
      "needs_background": "light"
     },
     "output_type": "display_data"
    }
   ],
   "source": [
    "# Plot Staten Island Crime Frequecy by Date\n",
    "\n",
    "staten_island = boro_2019[boro_2019['BOROUGH'] == 'STATEN ISLAND']\n",
    "staten_island = staten_island.DATE.value_counts()\n",
    "staten_island = staten_island.resample(rule='M').apply('sum')\n",
    "staten_island.plot(kind='line')"
   ]
  },
  {
   "cell_type": "markdown",
   "metadata": {},
   "source": [
    "## Get the frequency of top 10 districts with most crimes"
   ]
  },
  {
   "cell_type": "code",
   "execution_count": 26,
   "metadata": {},
   "outputs": [
    {
     "data": {
      "text/plain": [
       "<matplotlib.axes._subplots.AxesSubplot at 0x1277054d0>"
      ]
     },
     "execution_count": 26,
     "metadata": {},
     "output_type": "execute_result"
    },
    {
     "data": {
      "image/png": "[encoded data removed]",
      "text/plain": [
       "<Figure size 432x288 with 1 Axes>"
      ]
     },
     "metadata": {
      "needs_background": "light"
     },
     "output_type": "display_data"
    }
   ],
   "source": [
    "# Get the top 10 precints with high frequency\n",
    "precint = df.PRECINT.value_counts().head(10)\n",
    "\n",
    "# Sort in descending order\n",
    "precint = precint[::-1]\n",
    "precint\n",
    "\n",
    "# Plot using horizontal bar chart\n",
    "precint.plot(kind='barh')"
   ]
  },
  {
   "cell_type": "markdown",
   "metadata": {},
   "source": [
    "## Plot the frequency of top 10 crimes committed\n",
    "#### Same step as the top 10 district with most crimes"
   ]
  },
  {
   "cell_type": "code",
   "execution_count": 27,
   "metadata": {},
   "outputs": [
    {
     "data": {
      "text/plain": [
       "<matplotlib.axes._subplots.AxesSubplot at 0x12bab9e90>"
      ]
     },
     "execution_count": 27,
     "metadata": {},
     "output_type": "execute_result"
    },
    {
     "data": {
      "image/png": "[encoded data removed]",
      "text/plain": [
       "<Figure size 432x288 with 1 Axes>"
      ]
     },
     "metadata": {
      "needs_background": "light"
     },
     "output_type": "display_data"
    }
   ],
   "source": [
    "# Get the top 10 precints with high frequency\n",
    "crime_ = df.OFFENSE_NAME.value_counts().head(10)\n",
    "\n",
    "# Sort in descending order\n",
    "crime_= crime_[::-1]\n",
    "\n",
    "# Plot using horizontal bar chart\n",
    "crime_.plot(kind='barh')"
   ]
  },
  {
   "cell_type": "markdown",
   "metadata": {},
   "source": [
    "## SNS Heatmap of crimes  month for each boroough"
   ]
  },
  {
   "cell_type": "code",
   "execution_count": 39,
   "metadata": {
    "scrolled": true
   },
   "outputs": [
    {
     "data": {
      "text/html": [
       "<div>\n",
       "<style scoped>\n",
       "    .dataframe tbody tr th:only-of-type {\n",
       "        vertical-align: middle;\n",
       "    }\n",
       "\n",
       "    .dataframe tbody tr th {\n",
       "        vertical-align: top;\n",
       "    }\n",
       "\n",
       "    .dataframe thead th {\n",
       "        text-align: right;\n",
       "    }\n",
       "</style>\n",
       "<table border=\"1\" class=\"dataframe\">\n",
       "  <thead>\n",
       "    <tr style=\"text-align: right;\">\n",
       "      <th></th>\n",
       "      <th>DATE</th>\n",
       "      <th>BOROUGH</th>\n",
       "      <th>MONTH</th>\n",
       "    </tr>\n",
       "  </thead>\n",
       "  <tbody>\n",
       "    <tr>\n",
       "      <td>213058</td>\n",
       "      <td>2019-01-01</td>\n",
       "      <td>QUEENS</td>\n",
       "      <td>1</td>\n",
       "    </tr>\n",
       "    <tr>\n",
       "      <td>443545</td>\n",
       "      <td>2019-01-01</td>\n",
       "      <td>MANHATTAN</td>\n",
       "      <td>1</td>\n",
       "    </tr>\n",
       "    <tr>\n",
       "      <td>459971</td>\n",
       "      <td>2019-01-01</td>\n",
       "      <td>STATEN ISLAND</td>\n",
       "      <td>1</td>\n",
       "    </tr>\n",
       "    <tr>\n",
       "      <td>457740</td>\n",
       "      <td>2019-01-01</td>\n",
       "      <td>BROOKLYN</td>\n",
       "      <td>1</td>\n",
       "    </tr>\n",
       "    <tr>\n",
       "      <td>370691</td>\n",
       "      <td>2019-01-01</td>\n",
       "      <td>STATEN ISLAND</td>\n",
       "      <td>1</td>\n",
       "    </tr>\n",
       "    <tr>\n",
       "      <td>...</td>\n",
       "      <td>...</td>\n",
       "      <td>...</td>\n",
       "      <td>...</td>\n",
       "    </tr>\n",
       "    <tr>\n",
       "      <td>12298</td>\n",
       "      <td>2019-12-31</td>\n",
       "      <td>MANHATTAN</td>\n",
       "      <td>12</td>\n",
       "    </tr>\n",
       "    <tr>\n",
       "      <td>10137</td>\n",
       "      <td>2019-12-31</td>\n",
       "      <td>BROOKLYN</td>\n",
       "      <td>12</td>\n",
       "    </tr>\n",
       "    <tr>\n",
       "      <td>3249</td>\n",
       "      <td>2019-12-31</td>\n",
       "      <td>MANHATTAN</td>\n",
       "      <td>12</td>\n",
       "    </tr>\n",
       "    <tr>\n",
       "      <td>4986</td>\n",
       "      <td>2019-12-31</td>\n",
       "      <td>BRONX</td>\n",
       "      <td>12</td>\n",
       "    </tr>\n",
       "    <tr>\n",
       "      <td>0</td>\n",
       "      <td>2019-12-31</td>\n",
       "      <td>BRONX</td>\n",
       "      <td>12</td>\n",
       "    </tr>\n",
       "  </tbody>\n",
       "</table>\n",
       "<p>450978 rows × 3 columns</p>\n",
       "</div>"
      ],
      "text/plain": [
       "             DATE        BOROUGH  MONTH\n",
       "213058 2019-01-01         QUEENS      1\n",
       "443545 2019-01-01      MANHATTAN      1\n",
       "459971 2019-01-01  STATEN ISLAND      1\n",
       "457740 2019-01-01       BROOKLYN      1\n",
       "370691 2019-01-01  STATEN ISLAND      1\n",
       "...           ...            ...    ...\n",
       "12298  2019-12-31      MANHATTAN     12\n",
       "10137  2019-12-31       BROOKLYN     12\n",
       "3249   2019-12-31      MANHATTAN     12\n",
       "4986   2019-12-31          BRONX     12\n",
       "0      2019-12-31          BRONX     12\n",
       "\n",
       "[450978 rows x 3 columns]"
      ]
     },
     "execution_count": 39,
     "metadata": {},
     "output_type": "execute_result"
    }
   ],
   "source": [
    "keep_cols = [\"DATE\", \"BOROUGH\", \"MONTH\"]\n",
    "\n",
    "df_crimes = df_2019[keep_cols]\n"
   ]
  },
  {
   "cell_type": "code",
   "execution_count": null,
   "metadata": {},
   "outputs": [],
   "source": []
  }
 ],
 "metadata": {
  "kernelspec": {
   "display_name": "Python 3",
   "language": "python",
   "name": "python3"
  },
  "language_info": {
   "codemirror_mode": {
    "name": "ipython",
    "version": 3
   },
   "file_extension": ".py",
   "mimetype": "text/x-python",
   "name": "python",
   "nbconvert_exporter": "python",
   "pygments_lexer": "ipython3",
   "version": "3.7.4"
  }
 },
 "nbformat": 4,
 "nbformat_minor": 2
}
